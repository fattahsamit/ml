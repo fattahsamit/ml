{
 "cells": [
  {
   "cell_type": "markdown",
   "metadata": {
    "colab_type": "text",
    "id": "view-in-github"
   },
   "source": [
    "<a href=\"https://colab.research.google.com/github/fattahsamit/ml/blob/main/numpy/numpy.ipynb\" target=\"_parent\"><img src=\"https://colab.research.google.com/assets/colab-badge.svg\" alt=\"Open In Colab\"/></a>"
   ]
  },
  {
   "cell_type": "code",
   "execution_count": 90,
   "metadata": {
    "colab": {
     "base_uri": "https://localhost:8080/"
    },
    "id": "-lFPdkMgtBOJ",
    "outputId": "811a93fb-2d1a-480b-e16c-9244e59ee6da"
   },
   "outputs": [
    {
     "name": "stdout",
     "output_type": "stream",
     "text": [
      "Requirement already satisfied: numpy in /usr/local/lib/python3.7/dist-packages (1.21.6)\n"
     ]
    }
   ],
   "source": [
    "!pip install numpy"
   ]
  },
  {
   "cell_type": "code",
   "execution_count": 91,
   "metadata": {
    "id": "omL2jjqsUqAn"
   },
   "outputs": [],
   "source": [
    "import numpy as np"
   ]
  },
  {
   "cell_type": "markdown",
   "metadata": {
    "id": "SdXGn6CgW1_P"
   },
   "source": [
    "**Array Creation**"
   ]
  },
  {
   "cell_type": "code",
   "execution_count": 92,
   "metadata": {
    "colab": {
     "base_uri": "https://localhost:8080/"
    },
    "id": "a0l6GM4kWQiJ",
    "outputId": "a4c30ec5-45e2-4b97-cdfb-c27f9f68de48"
   },
   "outputs": [
    {
     "data": {
      "text/plain": [
       "array([1, 2, 3, 4, 5])"
      ]
     },
     "execution_count": 92,
     "metadata": {},
     "output_type": "execute_result"
    }
   ],
   "source": [
    "python_list = [1, 2, 3, 4, 5]\n",
    "\n",
    "arr = np.array(python_list)\n",
    "arr"
   ]
  },
  {
   "cell_type": "code",
   "execution_count": 93,
   "metadata": {
    "colab": {
     "base_uri": "https://localhost:8080/"
    },
    "id": "OXqh2W2ScmOo",
    "outputId": "03d967aa-4732-44d5-f366-22474cc3b485"
   },
   "outputs": [
    {
     "data": {
      "text/plain": [
       "array([[ 1,  2,  3,  4,  5],\n",
       "       [ 6,  7,  8,  9, 10]])"
      ]
     },
     "execution_count": 93,
     "metadata": {},
     "output_type": "execute_result"
    }
   ],
   "source": [
    "python_list = [[1, 2, 3, 4, 5], [6, 7, 8, 9, 10]]\n",
    "\n",
    "arr = np.array(python_list)\n",
    "arr"
   ]
  },
  {
   "cell_type": "code",
   "execution_count": 94,
   "metadata": {
    "colab": {
     "base_uri": "https://localhost:8080/"
    },
    "id": "VIeJ-VIFc8UH",
    "outputId": "e6bb1f4d-740e-456e-f880-c8276ca2d166"
   },
   "outputs": [
    {
     "name": "stdout",
     "output_type": "stream",
     "text": [
      "[0 1 2 3 4 5 6 7 8 9]\n"
     ]
    }
   ],
   "source": [
    "arr = np.arange(0, 10)\n",
    "print(arr)"
   ]
  },
  {
   "cell_type": "code",
   "execution_count": 95,
   "metadata": {
    "colab": {
     "base_uri": "https://localhost:8080/"
    },
    "id": "jd881VGzdJbg",
    "outputId": "9ba9ec06-1a2b-4e6d-939d-2d7444fc3452"
   },
   "outputs": [
    {
     "data": {
      "text/plain": [
       "array([1, 3, 5, 7, 9])"
      ]
     },
     "execution_count": 95,
     "metadata": {},
     "output_type": "execute_result"
    }
   ],
   "source": [
    "arr = np.arange(1, 11, 2)\n",
    "arr"
   ]
  },
  {
   "cell_type": "code",
   "execution_count": 96,
   "metadata": {
    "colab": {
     "base_uri": "https://localhost:8080/"
    },
    "id": "98i5dCEAqARJ",
    "outputId": "8ecbfb29-8c4a-4569-b7e1-13945c17c047"
   },
   "outputs": [
    {
     "name": "stdout",
     "output_type": "stream",
     "text": [
      "[0. 0. 0. 0. 0.]\n",
      "\n",
      "\n"
     ]
    },
    {
     "data": {
      "text/plain": [
       "array([[0, 0, 0],\n",
       "       [0, 0, 0],\n",
       "       [0, 0, 0],\n",
       "       [0, 0, 0]])"
      ]
     },
     "execution_count": 96,
     "metadata": {},
     "output_type": "execute_result"
    }
   ],
   "source": [
    "print(np.zeros(5))\n",
    "print(\"\\n\")\n",
    "\n",
    "np.zeros((4,3), dtype=int)"
   ]
  },
  {
   "cell_type": "code",
   "execution_count": 97,
   "metadata": {
    "colab": {
     "base_uri": "https://localhost:8080/"
    },
    "id": "e6L95Xy1tk9q",
    "outputId": "94a19fcf-a370-462e-d71a-68394b8d42a9"
   },
   "outputs": [
    {
     "data": {
      "text/plain": [
       "array([[1., 1., 1.],\n",
       "       [1., 1., 1.],\n",
       "       [1., 1., 1.],\n",
       "       [1., 1., 1.]])"
      ]
     },
     "execution_count": 97,
     "metadata": {},
     "output_type": "execute_result"
    }
   ],
   "source": [
    "np.ones((4,3))"
   ]
  },
  {
   "cell_type": "code",
   "execution_count": 98,
   "metadata": {
    "colab": {
     "base_uri": "https://localhost:8080/"
    },
    "id": "nxifU0uEw8aR",
    "outputId": "746ff9ae-efd3-409a-eb4e-bac77aa4edaf"
   },
   "outputs": [
    {
     "data": {
      "text/plain": [
       "array([[[1, 1, 1, 1, 1],\n",
       "        [1, 1, 1, 1, 1],\n",
       "        [1, 1, 1, 1, 1]],\n",
       "\n",
       "       [[1, 1, 1, 1, 1],\n",
       "        [1, 1, 1, 1, 1],\n",
       "        [1, 1, 1, 1, 1]],\n",
       "\n",
       "       [[1, 1, 1, 1, 1],\n",
       "        [1, 1, 1, 1, 1],\n",
       "        [1, 1, 1, 1, 1]],\n",
       "\n",
       "       [[1, 1, 1, 1, 1],\n",
       "        [1, 1, 1, 1, 1],\n",
       "        [1, 1, 1, 1, 1]]])"
      ]
     },
     "execution_count": 98,
     "metadata": {},
     "output_type": "execute_result"
    }
   ],
   "source": [
    "np.ones((4,3,5), dtype=int)"
   ]
  },
  {
   "cell_type": "code",
   "execution_count": 99,
   "metadata": {
    "colab": {
     "base_uri": "https://localhost:8080/"
    },
    "id": "hiXHgERWxK4I",
    "outputId": "b9606bb0-1919-4455-be74-c13c9185e73b"
   },
   "outputs": [
    {
     "data": {
      "text/plain": [
       "array([[10, 10, 10],\n",
       "       [10, 10, 10],\n",
       "       [10, 10, 10],\n",
       "       [10, 10, 10]])"
      ]
     },
     "execution_count": 99,
     "metadata": {},
     "output_type": "execute_result"
    }
   ],
   "source": [
    "np.full((4,3), 10)"
   ]
  },
  {
   "cell_type": "code",
   "execution_count": 100,
   "metadata": {
    "colab": {
     "base_uri": "https://localhost:8080/"
    },
    "id": "2atX_b5AxjjJ",
    "outputId": "a61a2275-01c6-4cd2-a954-bad8e847bc35"
   },
   "outputs": [
    {
     "data": {
      "text/plain": [
       "array([[1., 0., 0., 0.],\n",
       "       [0., 1., 0., 0.],\n",
       "       [0., 0., 1., 0.],\n",
       "       [0., 0., 0., 1.]])"
      ]
     },
     "execution_count": 100,
     "metadata": {},
     "output_type": "execute_result"
    }
   ],
   "source": [
    "# Identity matrix\n",
    "np.eye(4)"
   ]
  },
  {
   "cell_type": "code",
   "execution_count": 101,
   "metadata": {
    "colab": {
     "base_uri": "https://localhost:8080/"
    },
    "id": "kUCGF4FDye2Z",
    "outputId": "968421d0-c944-455e-c97e-b0fc18fb86d3"
   },
   "outputs": [
    {
     "data": {
      "text/plain": [
       "array([-1. , -0.5,  0. ,  0.5,  1. ])"
      ]
     },
     "execution_count": 101,
     "metadata": {},
     "output_type": "execute_result"
    }
   ],
   "source": [
    "np.linspace(-1,1,5)"
   ]
  },
  {
   "cell_type": "code",
   "execution_count": 102,
   "metadata": {
    "colab": {
     "base_uri": "https://localhost:8080/"
    },
    "id": "3VoCHoX5yzVp",
    "outputId": "c342ead2-50ce-4647-d528-e19fcb42388f"
   },
   "outputs": [
    {
     "data": {
      "text/plain": [
       "array([1.00000000e+00, 5.29449005e+00, 2.80316249e+01, 1.48413159e+02,\n",
       "       7.85771994e+02, 4.16026201e+03, 2.20264658e+04])"
      ]
     },
     "execution_count": 102,
     "metadata": {},
     "output_type": "execute_result"
    }
   ],
   "source": [
    "np.logspace(0,10,7, base=np.e)\n",
    "\n",
    "# np.logspace(0,10,7)\n",
    "\n",
    "# np.logspace(0,10,7, base=2)"
   ]
  },
  {
   "cell_type": "code",
   "execution_count": 103,
   "metadata": {
    "colab": {
     "base_uri": "https://localhost:8080/"
    },
    "id": "guefeiX-zqph",
    "outputId": "0ef18443-8519-4667-d82b-e8f2584c7741"
   },
   "outputs": [
    {
     "data": {
      "text/plain": [
       "array([[4, 0, 0],\n",
       "       [0, 5, 0],\n",
       "       [0, 0, 6]])"
      ]
     },
     "execution_count": 103,
     "metadata": {},
     "output_type": "execute_result"
    }
   ],
   "source": [
    "# Diagonal matrix\n",
    "np.diag([4,5,6])"
   ]
  },
  {
   "cell_type": "code",
   "execution_count": 104,
   "metadata": {
    "colab": {
     "base_uri": "https://localhost:8080/"
    },
    "id": "HlS8F_cr0KIh",
    "outputId": "b76fb4da-f7a4-4993-efc3-c1c9cdfb4e2a"
   },
   "outputs": [
    {
     "data": {
      "text/plain": [
       "array([[0.4841574 , 0.45395565, 0.66532262, 0.16460471],\n",
       "       [0.97082983, 0.08361426, 0.27244281, 0.2483066 ],\n",
       "       [0.40761893, 0.94464954, 0.48898503, 0.45499747]])"
      ]
     },
     "execution_count": 104,
     "metadata": {},
     "output_type": "execute_result"
    }
   ],
   "source": [
    "np.random.rand(4)\n",
    "\n",
    "np.random.rand(2,2,2)\n",
    "\n",
    "np.random.rand(3,4)"
   ]
  },
  {
   "cell_type": "code",
   "execution_count": 105,
   "metadata": {
    "colab": {
     "base_uri": "https://localhost:8080/"
    },
    "id": "2aRMuFqSjm3u",
    "outputId": "d3effa86-92cf-480b-b820-7738a2492f77"
   },
   "outputs": [
    {
     "data": {
      "text/plain": [
       "array([[ 0.31481046, -0.79621456, -0.44753045],\n",
       "       [ 0.91316249,  0.13062608, -0.45175683]])"
      ]
     },
     "execution_count": 105,
     "metadata": {},
     "output_type": "execute_result"
    }
   ],
   "source": [
    "np.random.randn(2,3)"
   ]
  },
  {
   "cell_type": "code",
   "execution_count": 106,
   "metadata": {
    "colab": {
     "base_uri": "https://localhost:8080/"
    },
    "id": "KbriPA5IkX6V",
    "outputId": "191d606d-fcae-4145-b949-3e4b95c880ef"
   },
   "outputs": [
    {
     "data": {
      "text/plain": [
       "array([9, 4, 0, 5, 1, 3, 8, 6, 9, 1])"
      ]
     },
     "execution_count": 106,
     "metadata": {},
     "output_type": "execute_result"
    }
   ],
   "source": [
    "arr = np.random.randint(0,10,10)\n",
    "arr"
   ]
  },
  {
   "cell_type": "markdown",
   "metadata": {
    "id": "zYOcA6ITXIge"
   },
   "source": [
    "**Array Attributes**"
   ]
  },
  {
   "cell_type": "code",
   "execution_count": 107,
   "metadata": {
    "colab": {
     "base_uri": "https://localhost:8080/"
    },
    "id": "Mbloav1Eka80",
    "outputId": "6325db23-d201-4f13-c0f1-fc2ec44681ea"
   },
   "outputs": [
    {
     "data": {
      "text/plain": [
       "array([[9, 4, 0, 5, 1],\n",
       "       [3, 8, 6, 9, 1]])"
      ]
     },
     "execution_count": 107,
     "metadata": {},
     "output_type": "execute_result"
    }
   ],
   "source": [
    "arr.reshape(2,5)"
   ]
  },
  {
   "cell_type": "code",
   "execution_count": 108,
   "metadata": {
    "colab": {
     "base_uri": "https://localhost:8080/"
    },
    "id": "RezNyNsDo3n0",
    "outputId": "eed278d8-c17b-4ea3-d44e-9b7c16efe1a7"
   },
   "outputs": [
    {
     "data": {
      "text/plain": [
       "array([[4, 1, 3],\n",
       "       [5, 1, 8],\n",
       "       [5, 1, 4],\n",
       "       [9, 1, 6]])"
      ]
     },
     "execution_count": 108,
     "metadata": {},
     "output_type": "execute_result"
    }
   ],
   "source": [
    "arr = np.random.randint(0,10,(4,3))\n",
    "arr"
   ]
  },
  {
   "cell_type": "code",
   "execution_count": 109,
   "metadata": {
    "colab": {
     "base_uri": "https://localhost:8080/"
    },
    "id": "ly0vdGaVpg_k",
    "outputId": "057d9541-6704-414a-c3b2-f3dfa365d046"
   },
   "outputs": [
    {
     "data": {
      "text/plain": [
       "array([[4, 1],\n",
       "       [3, 5],\n",
       "       [1, 8],\n",
       "       [5, 1],\n",
       "       [4, 9],\n",
       "       [1, 6]])"
      ]
     },
     "execution_count": 109,
     "metadata": {},
     "output_type": "execute_result"
    }
   ],
   "source": [
    "arr.reshape(6,2)"
   ]
  },
  {
   "cell_type": "code",
   "execution_count": 110,
   "metadata": {
    "colab": {
     "base_uri": "https://localhost:8080/"
    },
    "id": "wLGRyMDNpmwM",
    "outputId": "6f517f75-dd2b-4309-e683-192c1d78cd36"
   },
   "outputs": [
    {
     "name": "stdout",
     "output_type": "stream",
     "text": [
      "[[47 35 91]\n",
      " [77 17 48]\n",
      " [43 25 23]\n",
      " [30 79 70]]\n",
      "91\n",
      "2\n"
     ]
    }
   ],
   "source": [
    "arr = np.random.randint(0,100,(4,3))\n",
    "print(arr)\n",
    "\n",
    "print(arr.max())\n",
    "\n",
    "# Index containing the max value\n",
    "print(arr.argmax())"
   ]
  },
  {
   "cell_type": "code",
   "execution_count": 111,
   "metadata": {
    "colab": {
     "base_uri": "https://localhost:8080/"
    },
    "id": "_gM3iRnEp-yc",
    "outputId": "8c11337e-324c-4d2a-a489-a233d40fc75f"
   },
   "outputs": [
    {
     "name": "stdout",
     "output_type": "stream",
     "text": [
      "[[97 18 96]\n",
      " [20 82 28]\n",
      " [ 4 29 55]\n",
      " [44 83 37]]\n",
      "4\n",
      "6\n"
     ]
    }
   ],
   "source": [
    "arr = np.random.randint(0,100,(4,3))\n",
    "print(arr)\n",
    "\n",
    "print(arr.min())\n",
    "\n",
    "# Index containing the max value\n",
    "print(arr.argmin())"
   ]
  },
  {
   "cell_type": "code",
   "execution_count": 112,
   "metadata": {
    "colab": {
     "base_uri": "https://localhost:8080/"
    },
    "id": "zDy8GRnTqLks",
    "outputId": "73a4ea9b-30af-4055-bc39-e59037ffd148"
   },
   "outputs": [
    {
     "data": {
      "text/plain": [
       "(4, 3)"
      ]
     },
     "execution_count": 112,
     "metadata": {},
     "output_type": "execute_result"
    }
   ],
   "source": [
    "arr.shape"
   ]
  },
  {
   "cell_type": "code",
   "execution_count": 113,
   "metadata": {
    "colab": {
     "base_uri": "https://localhost:8080/"
    },
    "id": "qywvYw8GrqbM",
    "outputId": "874149bb-9791-4e4b-fec3-c409e9f85620"
   },
   "outputs": [
    {
     "data": {
      "text/plain": [
       "2"
      ]
     },
     "execution_count": 113,
     "metadata": {},
     "output_type": "execute_result"
    }
   ],
   "source": [
    "# Show dimension of the array\n",
    "arr.ndim"
   ]
  },
  {
   "cell_type": "code",
   "execution_count": 114,
   "metadata": {
    "colab": {
     "base_uri": "https://localhost:8080/"
    },
    "id": "w2uzHAH0sCBM",
    "outputId": "11481812-ec1b-477a-e18b-21b62e11ad65"
   },
   "outputs": [
    {
     "data": {
      "text/plain": [
       "12"
      ]
     },
     "execution_count": 114,
     "metadata": {},
     "output_type": "execute_result"
    }
   ],
   "source": [
    "arr.size"
   ]
  },
  {
   "cell_type": "code",
   "execution_count": 115,
   "metadata": {
    "colab": {
     "base_uri": "https://localhost:8080/"
    },
    "id": "ADMxCTMFsL1k",
    "outputId": "0fe70ccc-bf5c-42f7-cb8f-ef667562e8a8"
   },
   "outputs": [
    {
     "data": {
      "text/plain": [
       "dtype('int64')"
      ]
     },
     "execution_count": 115,
     "metadata": {},
     "output_type": "execute_result"
    }
   ],
   "source": [
    "arr.dtype"
   ]
  },
  {
   "cell_type": "code",
   "execution_count": 116,
   "metadata": {
    "colab": {
     "base_uri": "https://localhost:8080/"
    },
    "id": "ddvxb7HAsSMM",
    "outputId": "8a28d6a3-2ed8-417f-a549-7ecdf491a072"
   },
   "outputs": [
    {
     "data": {
      "text/plain": [
       "dtype('float64')"
      ]
     },
     "execution_count": 116,
     "metadata": {},
     "output_type": "execute_result"
    }
   ],
   "source": [
    "arr = np.random.rand(4,3)\n",
    "arr.dtype"
   ]
  },
  {
   "cell_type": "code",
   "execution_count": 117,
   "metadata": {
    "colab": {
     "base_uri": "https://localhost:8080/"
    },
    "id": "uaDb08hMst8L",
    "outputId": "c3e4cacd-815e-445a-d0b9-888a8cb5cf40"
   },
   "outputs": [
    {
     "data": {
      "text/plain": [
       "8"
      ]
     },
     "execution_count": 117,
     "metadata": {},
     "output_type": "execute_result"
    }
   ],
   "source": [
    "# returns the size (in bytes) of each element of a NumPy array\n",
    "arr.itemsize"
   ]
  },
  {
   "cell_type": "code",
   "execution_count": 118,
   "metadata": {
    "colab": {
     "base_uri": "https://localhost:8080/"
    },
    "id": "1M65RyH8v-pM",
    "outputId": "c1d137bb-b2d2-4839-ca16-95559d6b563a"
   },
   "outputs": [
    {
     "name": "stdout",
     "output_type": "stream",
     "text": [
      "<memory at 0x7f69d3ab4d70>\n",
      "<memory at 0x7f69d3ab4d70>\n"
     ]
    }
   ],
   "source": [
    "arr2 = arr\n",
    "\n",
    "print(arr.data)\n",
    "print(arr2.data)"
   ]
  },
  {
   "cell_type": "markdown",
   "metadata": {
    "id": "5xDydByLKI2u"
   },
   "source": [
    "**Array Indexing**"
   ]
  },
  {
   "cell_type": "code",
   "execution_count": 119,
   "metadata": {
    "colab": {
     "base_uri": "https://localhost:8080/"
    },
    "id": "hdvXj-1qwsKc",
    "outputId": "35060ee4-d61a-40c6-c290-3e912d1b99bb"
   },
   "outputs": [
    {
     "data": {
      "text/plain": [
       "array([92, 53, 85, 77,  6, 52, 69, 52,  0, 79])"
      ]
     },
     "execution_count": 119,
     "metadata": {},
     "output_type": "execute_result"
    }
   ],
   "source": [
    "sample_arr = np.random.randint(0,100,10)\n",
    "\n",
    "sample_arr"
   ]
  },
  {
   "cell_type": "code",
   "execution_count": 120,
   "metadata": {
    "colab": {
     "base_uri": "https://localhost:8080/"
    },
    "id": "9_81aXNbJW2H",
    "outputId": "44418ce7-538a-492b-d949-6c0aa3f5696c"
   },
   "outputs": [
    {
     "data": {
      "text/plain": [
       "77"
      ]
     },
     "execution_count": 120,
     "metadata": {},
     "output_type": "execute_result"
    }
   ],
   "source": [
    "sample_arr[3]"
   ]
  },
  {
   "cell_type": "code",
   "execution_count": 121,
   "metadata": {
    "colab": {
     "base_uri": "https://localhost:8080/"
    },
    "id": "lUbJTj3eJkd_",
    "outputId": "ffb9a085-b3f3-41fe-9fd4-f338cbe92286"
   },
   "outputs": [
    {
     "name": "stdout",
     "output_type": "stream",
     "text": [
      "92\n",
      "53\n",
      "85\n",
      "77\n",
      "6\n",
      "52\n",
      "69\n",
      "52\n",
      "0\n",
      "79\n"
     ]
    }
   ],
   "source": [
    "for data in sample_arr:\n",
    "  print(data)"
   ]
  },
  {
   "cell_type": "code",
   "execution_count": 122,
   "metadata": {
    "colab": {
     "base_uri": "https://localhost:8080/"
    },
    "id": "97VAI2P5JtPd",
    "outputId": "29fdea6c-9aab-405a-d0c6-d1d9d855b9e4"
   },
   "outputs": [
    {
     "name": "stdout",
     "output_type": "stream",
     "text": [
      "92\n",
      "53\n",
      "85\n",
      "77\n",
      "6\n",
      "52\n",
      "69\n",
      "52\n",
      "0\n",
      "79\n"
     ]
    }
   ],
   "source": [
    "for i in range(len(sample_arr)):\n",
    "  print(sample_arr[i])"
   ]
  },
  {
   "cell_type": "code",
   "execution_count": 123,
   "metadata": {
    "colab": {
     "base_uri": "https://localhost:8080/"
    },
    "id": "92QPchgSJ6Te",
    "outputId": "4dbc3631-3e21-49ca-a102-2ecf894e19b7"
   },
   "outputs": [
    {
     "name": "stdout",
     "output_type": "stream",
     "text": [
      "[92 53 85 77  6 52 69 52  0 79]\n"
     ]
    },
    {
     "data": {
      "text/plain": [
       "array([53, 85, 77,  6, 52])"
      ]
     },
     "execution_count": 123,
     "metadata": {},
     "output_type": "execute_result"
    }
   ],
   "source": [
    "print(sample_arr)\n",
    "sample_arr[1:6]"
   ]
  },
  {
   "cell_type": "code",
   "execution_count": 124,
   "metadata": {
    "colab": {
     "base_uri": "https://localhost:8080/"
    },
    "id": "L0w-8OUiKid_",
    "outputId": "31aeb490-6e03-4fb3-8313-ec7d5f9bb811"
   },
   "outputs": [
    {
     "data": {
      "text/plain": [
       "array([92, 53, 85, 77,  6])"
      ]
     },
     "execution_count": 124,
     "metadata": {},
     "output_type": "execute_result"
    }
   ],
   "source": [
    "sample_arr[:5]"
   ]
  },
  {
   "cell_type": "code",
   "execution_count": 125,
   "metadata": {
    "colab": {
     "base_uri": "https://localhost:8080/"
    },
    "id": "KjpGgLviK94e",
    "outputId": "c484b3c2-d56c-48f8-d17e-199700a6a574"
   },
   "outputs": [
    {
     "data": {
      "text/plain": [
       "array([52, 69, 52,  0, 79])"
      ]
     },
     "execution_count": 125,
     "metadata": {},
     "output_type": "execute_result"
    }
   ],
   "source": [
    "sample_arr[5:]"
   ]
  },
  {
   "cell_type": "code",
   "execution_count": 126,
   "metadata": {
    "id": "4o5eHr5ILO2m"
   },
   "outputs": [],
   "source": [
    "# arr = sample_arr[5:]\n",
    "\n",
    "# arr[:3] = 100\n",
    "# print(arr)\n",
    "\n",
    "# sample_arr"
   ]
  },
  {
   "cell_type": "code",
   "execution_count": 127,
   "metadata": {
    "colab": {
     "base_uri": "https://localhost:8080/"
    },
    "id": "kGv1ucBbMDFO",
    "outputId": "87b31bc3-9f89-4fff-dc93-94c526074d4f"
   },
   "outputs": [
    {
     "name": "stdout",
     "output_type": "stream",
     "text": [
      "[1000 1000 1000 1000 1000 1000 1000 1000 1000 1000]\n",
      "[92 53 85 77  6 52 69 52  0 79]\n"
     ]
    }
   ],
   "source": [
    "arr = sample_arr.copy()\n",
    "\n",
    "arr[:] = 1000\n",
    "\n",
    "print(arr)\n",
    "print(sample_arr)\n"
   ]
  },
  {
   "cell_type": "code",
   "execution_count": 130,
   "metadata": {
    "id": "3xQBcGxTMhUm"
   },
   "outputs": [],
   "source": [
    "arr2d = np.random.randint(0,100,(5,5))"
   ]
  },
  {
   "cell_type": "code",
   "execution_count": 132,
   "metadata": {
    "colab": {
     "base_uri": "https://localhost:8080/"
    },
    "id": "Mcox4VonNpoG",
    "outputId": "cec78d3a-212b-4126-b797-e0cb5bba5dbf"
   },
   "outputs": [
    {
     "name": "stdout",
     "output_type": "stream",
     "text": [
      "[[63 92 24  5 27]\n",
      " [21 51 31 77 92]\n",
      " [89 81 17 96 71]\n",
      " [95 14 38 91 71]\n",
      " [ 0 20 25 99 20]]\n"
     ]
    },
    {
     "data": {
      "text/plain": [
       "31"
      ]
     },
     "execution_count": 132,
     "metadata": {},
     "output_type": "execute_result"
    }
   ],
   "source": [
    "print(arr2d)\n",
    "arr2d[1][2]"
   ]
  },
  {
   "cell_type": "code",
   "execution_count": 134,
   "metadata": {
    "colab": {
     "base_uri": "https://localhost:8080/"
    },
    "id": "xUp-z6ccONCl",
    "outputId": "f2c74911-cdde-454c-a259-d4df7b37c303"
   },
   "outputs": [
    {
     "data": {
      "text/plain": [
       "14"
      ]
     },
     "execution_count": 134,
     "metadata": {},
     "output_type": "execute_result"
    }
   ],
   "source": [
    "arr2d[3,1]"
   ]
  },
  {
   "cell_type": "markdown",
   "metadata": {
    "id": "ngmVFp9-PBFe"
   },
   "source": [
    "**Array Selection**"
   ]
  },
  {
   "cell_type": "code",
   "execution_count": 135,
   "metadata": {
    "colab": {
     "base_uri": "https://localhost:8080/"
    },
    "id": "JKNdKWPsOeTG",
    "outputId": "74f68fa9-ff54-474c-ebbc-cf6a179aaec8"
   },
   "outputs": [
    {
     "data": {
      "text/plain": [
       "array([[92, 24,  5, 27],\n",
       "       [51, 31, 77, 92]])"
      ]
     },
     "execution_count": 135,
     "metadata": {},
     "output_type": "execute_result"
    }
   ],
   "source": [
    "arr2d[:2,1:]"
   ]
  },
  {
   "cell_type": "code",
   "execution_count": 137,
   "metadata": {
    "colab": {
     "base_uri": "https://localhost:8080/"
    },
    "id": "7dAhdmc5P-9-",
    "outputId": "d4f8b96d-1d3f-4191-8f61-b9a40ee2e36f"
   },
   "outputs": [
    {
     "data": {
      "text/plain": [
       "array([[51, 31],\n",
       "       [81, 17]])"
      ]
     },
     "execution_count": 137,
     "metadata": {},
     "output_type": "execute_result"
    }
   ],
   "source": [
    "arr2d[1:3,1:3]"
   ]
  },
  {
   "cell_type": "code",
   "execution_count": 143,
   "metadata": {
    "colab": {
     "base_uri": "https://localhost:8080/"
    },
    "id": "7kzamWMeQNkG",
    "outputId": "ff333a26-8cee-4bff-9bf3-5c239208b06d"
   },
   "outputs": [
    {
     "name": "stdout",
     "output_type": "stream",
     "text": [
      "[ 0  1  2  3  4  5  6  7  8  9 10]\n",
      "[False False False False False  True  True  True  True  True  True]\n"
     ]
    },
    {
     "data": {
      "text/plain": [
       "array([ 5,  6,  7,  8,  9, 10])"
      ]
     },
     "execution_count": 143,
     "metadata": {},
     "output_type": "execute_result"
    }
   ],
   "source": [
    "arr = np.arange(0,11)\n",
    "print(arr)\n",
    "\n",
    "bool_arr = arr > 4\n",
    "print(bool_arr)\n",
    "\n",
    "arr[arr > 4]\n",
    "arr[bool_arr]"
   ]
  },
  {
   "cell_type": "markdown",
   "metadata": {
    "id": "HJKyLxzYRo13"
   },
   "source": [
    "**Array operations**"
   ]
  },
  {
   "cell_type": "code",
   "execution_count": 148,
   "metadata": {
    "colab": {
     "base_uri": "https://localhost:8080/"
    },
    "id": "iaYXAIC4QrXu",
    "outputId": "26943fb1-d2a3-46c5-fa3f-b0dc4d6e9126"
   },
   "outputs": [
    {
     "data": {
      "text/plain": [
       "[1, 2, 3, 1, 2, 3]"
      ]
     },
     "execution_count": 148,
     "metadata": {},
     "output_type": "execute_result"
    }
   ],
   "source": [
    "lst = [1,2,3]\n",
    "lst + lst"
   ]
  },
  {
   "cell_type": "code",
   "execution_count": 150,
   "metadata": {
    "colab": {
     "base_uri": "https://localhost:8080/"
    },
    "id": "Z75BawhbTfKm",
    "outputId": "70218309-cdaa-4b3f-8e57-c8f065fbf2ad"
   },
   "outputs": [
    {
     "name": "stdout",
     "output_type": "stream",
     "text": [
      "[ 1  2  3  4  5  6  7  8  9 10 11 12]\n"
     ]
    },
    {
     "data": {
      "text/plain": [
       "array([ 2,  4,  6,  8, 10, 12, 14, 16, 18, 20, 22, 24])"
      ]
     },
     "execution_count": 150,
     "metadata": {},
     "output_type": "execute_result"
    }
   ],
   "source": [
    "# NumPy has brodcasting ability\n",
    "\n",
    "arr = np.arange(1,13)\n",
    "print(arr)\n",
    "\n",
    "arr + arr\n",
    "# arr - arr\n",
    "# arr * arr\n",
    "# arr / arr"
   ]
  },
  {
   "cell_type": "code",
   "execution_count": 155,
   "metadata": {
    "colab": {
     "base_uri": "https://localhost:8080/"
    },
    "id": "86MfjeDPU2kW",
    "outputId": "32556193-7d4a-4c9e-9e2a-6c4e52d488d3"
   },
   "outputs": [
    {
     "name": "stdout",
     "output_type": "stream",
     "text": [
      "[[ 1  2  3]\n",
      " [ 4  5  6]\n",
      " [ 7  8  9]\n",
      " [10 11 12]]\n",
      "\n",
      "\n",
      "[[ 1  2  3]\n",
      " [ 4  5  6]\n",
      " [ 7  8  9]\n",
      " [10 11 12]]\n",
      "\n",
      "\n"
     ]
    },
    {
     "data": {
      "text/plain": [
       "array([[  1,   4,   9],\n",
       "       [ 16,  25,  36],\n",
       "       [ 49,  64,  81],\n",
       "       [100, 121, 144]])"
      ]
     },
     "execution_count": 155,
     "metadata": {},
     "output_type": "execute_result"
    }
   ],
   "source": [
    "arr = np.arange(1,13).reshape(4,3)\n",
    "arr2 = np.arange(1,13).reshape(4,3)\n",
    "\n",
    "print(arr)\n",
    "print(\"\\n\")\n",
    "print(arr2)\n",
    "print(\"\\n\")\n",
    "\n",
    "arr * arr2"
   ]
  },
  {
   "cell_type": "code",
   "execution_count": 156,
   "metadata": {
    "colab": {
     "base_uri": "https://localhost:8080/"
    },
    "id": "UBJhZyTiS9w9",
    "outputId": "cc9607bc-6068-4262-e974-a19d31ac7a9c"
   },
   "outputs": [
    {
     "data": {
      "text/plain": [
       "array([[ 2,  4,  6],\n",
       "       [ 8, 10, 12],\n",
       "       [14, 16, 18],\n",
       "       [20, 22, 24]])"
      ]
     },
     "execution_count": 156,
     "metadata": {},
     "output_type": "execute_result"
    }
   ],
   "source": [
    "np.add(arr, arr2)"
   ]
  },
  {
   "cell_type": "code",
   "execution_count": 157,
   "metadata": {
    "colab": {
     "base_uri": "https://localhost:8080/"
    },
    "id": "iMNHPMdmTMtm",
    "outputId": "64da6f86-45d8-46b4-d436-2aecdf63fcb5"
   },
   "outputs": [
    {
     "data": {
      "text/plain": [
       "array([[1.        , 1.41421356, 1.73205081],\n",
       "       [2.        , 2.23606798, 2.44948974],\n",
       "       [2.64575131, 2.82842712, 3.        ],\n",
       "       [3.16227766, 3.31662479, 3.46410162]])"
      ]
     },
     "execution_count": 157,
     "metadata": {},
     "output_type": "execute_result"
    }
   ],
   "source": [
    "np.sqrt(arr)"
   ]
  },
  {
   "cell_type": "code",
   "execution_count": 159,
   "metadata": {
    "colab": {
     "base_uri": "https://localhost:8080/"
    },
    "id": "fy8ALwJxVum-",
    "outputId": "7875e4ba-865a-4a91-84f0-346ff00b3508"
   },
   "outputs": [
    {
     "data": {
      "text/plain": [
       "12"
      ]
     },
     "execution_count": 159,
     "metadata": {},
     "output_type": "execute_result"
    }
   ],
   "source": [
    "np.max(arr)"
   ]
  },
  {
   "cell_type": "code",
   "execution_count": 160,
   "metadata": {
    "colab": {
     "base_uri": "https://localhost:8080/"
    },
    "id": "Zz790VvtV6Y2",
    "outputId": "53a94909-2b8e-4024-de65-4fe5e953d9dd"
   },
   "outputs": [
    {
     "data": {
      "text/plain": [
       "array([[2.71828183e+00, 7.38905610e+00, 2.00855369e+01],\n",
       "       [5.45981500e+01, 1.48413159e+02, 4.03428793e+02],\n",
       "       [1.09663316e+03, 2.98095799e+03, 8.10308393e+03],\n",
       "       [2.20264658e+04, 5.98741417e+04, 1.62754791e+05]])"
      ]
     },
     "execution_count": 160,
     "metadata": {},
     "output_type": "execute_result"
    }
   ],
   "source": [
    "np.exp(arr)"
   ]
  },
  {
   "cell_type": "code",
   "execution_count": 161,
   "metadata": {
    "colab": {
     "base_uri": "https://localhost:8080/"
    },
    "id": "ZlbZJ8njV-1G",
    "outputId": "f5c58b98-0dbd-4379-9205-4d3389ada27d"
   },
   "outputs": [
    {
     "data": {
      "text/plain": [
       "array([[ 0.84147098,  0.90929743,  0.14112001],\n",
       "       [-0.7568025 , -0.95892427, -0.2794155 ],\n",
       "       [ 0.6569866 ,  0.98935825,  0.41211849],\n",
       "       [-0.54402111, -0.99999021, -0.53657292]])"
      ]
     },
     "execution_count": 161,
     "metadata": {},
     "output_type": "execute_result"
    }
   ],
   "source": [
    "np.sin(arr)"
   ]
  }
 ],
 "metadata": {
  "colab": {
   "authorship_tag": "ABX9TyNQCAA9nEk9BBir9NTLEv2Y",
   "collapsed_sections": [],
   "include_colab_link": true,
   "name": "numpy",
   "provenance": []
  },
  "kernelspec": {
   "display_name": "Python 3",
   "language": "python",
   "name": "python3"
  },
  "language_info": {
   "codemirror_mode": {
    "name": "ipython",
    "version": 3
   },
   "file_extension": ".py",
   "mimetype": "text/x-python",
   "name": "python",
   "nbconvert_exporter": "python",
   "pygments_lexer": "ipython3",
   "version": "3.8.8"
  }
 },
 "nbformat": 4,
 "nbformat_minor": 1
}
