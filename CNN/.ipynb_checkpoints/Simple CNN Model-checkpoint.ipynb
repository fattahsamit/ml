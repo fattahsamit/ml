{
 "cells": [
  {
   "cell_type": "markdown",
   "id": "687fe8b7",
   "metadata": {},
   "source": [
    "# The Complete Convolutional Neural Network with Python 2022"
   ]
  },
  {
   "cell_type": "markdown",
   "id": "42260868",
   "metadata": {},
   "source": [
    "Artificial Neural Network (ANN)\n",
    "\n",
    "The structure of the neural network contains the input layer, hidden layer and output layer. So, normally the information will be received by the input signal and then it will be trasferred to the hidden layers where all the information will be processed. Finally, after processing all information, output will be be released by the output layer."
   ]
  },
  {
   "cell_type": "markdown",
   "id": "b399581e",
   "metadata": {},
   "source": [
    "Convolutional Neural Network (CNN)\n",
    "\n",
    "CNNs are ANNs. CNNs are made of neurons that are connected to one another by weighted brances (weight); the training parameters of the networks are once again the weight and bias. In CNNs, the connection pattern between neurons is inspired by the structure of the visual cortex in the animal world. The individual neurons that are present in this part of the brain (visual cortex) respond to certain stimuli in a narrow region of the observation, called the receptive field.\n",
    "\n",
    "The receptive fields of different neurons are partially overlapped to cover the entire field of vision. The response of a single neuron to stimuli taking place in it's receptive field can be mathematically approximated by a convolutional operation.\n",
    "\n",
    "CNNs contain input layers, convolution layers, pooling layers, fully connected layers and output layers."
   ]
  },
  {
   "cell_type": "markdown",
   "id": "2ad07866",
   "metadata": {},
   "source": [
    "Convolution Layer\n",
    "\n",
    "This is the main type of layer; the use of one or more of these layers in CNNs are essential. Convolution layers have neurons which are organized in 3 dimensons:\n",
    "\n",
    "    Width\n",
    "    Height\n",
    "    Depth\n",
    "\n",
    "During forward propagation, each filter which is spatially small (along the width and height dimensions) and extends over the entire depth of the input volume to which it is applied, is translated or convoluted with the width and height of the input volume producing a 2D activation map (or a feature map) for that filter. As the filter moved along the input area, a scalar product operation is performed between the values of the filter and those of the input portion to which it is applied.\n",
    "\n",
    "The goal is to learn activated filers in the presense of some specific type of functionality in a given spatial region of the input. The queuing of all these feature maps (for all filters) and the depth dimension form the output volume of a convolution layer.\n",
    "\n",
    "Each element of this volume can be interpreted as the output of a neuron that observes only a small region of the input which shares it's parameters with other neurons that are in the same feature map. Because these values all come from the application of the same filter."
   ]
  },
  {
   "cell_type": "markdown",
   "id": "7b4941e7",
   "metadata": {},
   "source": [
    "Pooling Layers\n",
    "\n",
    "These layers are inserted into the network to reduce the spatial size (width and height) of current representations, as well as volumes in a specific network stage. This serves to reduce the number of parameters and the computational time of the network. It also monitors overfitting. A pooling layer operates on each depth slice of the input volume independently to resize it spatially.\n",
    "\n",
    "For each feature obtained in the convolutional step, a matrix will be built and we will find the maximum in each chosen matrix to shrink the entire input.\n",
    "\n",
    "Steps:\n",
    "\n",
    "    Pick a window size. ( 2 or 3 )\n",
    "    Pick a stride moving range of pixels. ( usually 2 )\n",
    "    Slide the window across the filtered images.\n",
    "\n",
    "For each window, the maximum value will be chosen.\n",
    "\n",
    "A pooling layer will divide input into regions and select a single representative value. (max pooling and average pooling)\n",
    "\n",
    "The max pool layer will select the maximum number of features that have been detected by the convolution layers that precede it. The output will check whether a hypothetical feature is present in a region of the previous layers or not but not exactly where.\n",
    "\n",
    "Hence, the idea is to allow the succesive layers to worn on larger selection of data. Max pooling allows for faster convergence rates and therefore, allow us to select higher invarient features to improve the generalization performance.\n",
    "\n",
    "Advantages of using pooling layer:\n",
    "\n",
    "    Reduce the calculation of subsequent layers.\n",
    "    Increase the robustness of the features with respect to spatial position."
   ]
  },
  {
   "cell_type": "code",
   "execution_count": 22,
   "id": "ba1b45bb",
   "metadata": {},
   "outputs": [],
   "source": [
    "# Implement Basic CNN\n",
    "# Importing and loading all the necessary libraries\n",
    "import matplotlib.pyplot as plt\n",
    "import numpy as np\n",
    "import tensorflow as tf\n",
    "\n",
    "# import keras\n",
    "from keras.preprocessing import image\n",
    "# and use \n",
    "# image.ImageDataGenerator()\n",
    "# image.load_img()"
   ]
  },
  {
   "cell_type": "markdown",
   "id": "8fd0647c",
   "metadata": {},
   "source": [
    "We will use the MNIST digits dataset and we can access to this dataset via Keras library"
   ]
  },
  {
   "cell_type": "code",
   "execution_count": 23,
   "id": "407aec8c",
   "metadata": {},
   "outputs": [],
   "source": [
    "# Load the data and reshape the images in a 4-dimensional matrix \n",
    "(x_train, y_train), (x_test, y_test) = tf.keras.datasets.mnist.load_data()\n",
    "\n",
    "# Reshape\n",
    "x_train = x_train.reshape(-1, 28, 28, 1)\n",
    "x_test = x_test.reshape(-1, 28, 28, 1)\n",
    "\n",
    "# Padding the images by 2 pixels\n",
    "x_train = np.pad(x_train, ((0, 0), (2, 2), (2, 2), (0, 0)), 'constant')\n",
    "x_test = np.pad(x_test, ((0, 0), (2, 2), (2, 2), (0, 0)), 'constant')\n"
   ]
  },
  {
   "cell_type": "markdown",
   "id": "72d994ab",
   "metadata": {},
   "source": [
    "The MNIST dataset includes training and test datasets. These datasets are composed of the grayscale images (integer arrays with shape (num_sample, 28, 28)) and the labels (integers in the range 0-9). Images are padded by 2 pixels because the input images were 32x32.\n",
    "\n",
    "The next step is model parameters need to be set and the depth of the image (number of channels) will be 1. The reason for that is these images are grayscale."
   ]
  },
  {
   "cell_type": "code",
   "execution_count": 24,
   "id": "83453350",
   "metadata": {},
   "outputs": [],
   "source": [
    "image.width = x_train[0].shape[0]\n",
    "image.height = x_train[0].shape[1]\n",
    "\n",
    "# Grayscale = 1 channel\n",
    "num_channels = 1\n",
    "seed = 98\n",
    "np.random.seed(seed)\n",
    "tf.random.set_seed(seed)\n"
   ]
  },
  {
   "cell_type": "markdown",
   "id": "6f8cfa58",
   "metadata": {},
   "source": [
    "The next is training and test data variables will be declared and there will be various batch sizes for training and evaluation. these values can be changed depending on the physical memory that is available for training and evaluating."
   ]
  },
  {
   "cell_type": "code",
   "execution_count": 25,
   "id": "f68ab3b7",
   "metadata": {},
   "outputs": [],
   "source": [
    "batch_size = 100\n",
    "evaluation_size = 500\n",
    "epochs = 300\n",
    "eval_every = 5"
   ]
  },
  {
   "cell_type": "markdown",
   "id": "b78089af",
   "metadata": {},
   "source": [
    "Our images need to be normalized to change the values of all pixels to a common scale"
   ]
  },
  {
   "cell_type": "code",
   "execution_count": 26,
   "id": "e65c40ca",
   "metadata": {},
   "outputs": [],
   "source": [
    "x_train = x_train/255\n",
    "x_test = x_test/255"
   ]
  },
  {
   "cell_type": "markdown",
   "id": "b6eec9c2",
   "metadata": {},
   "source": [
    "We will declare our model. We will have the feature extractor module composed of 2 convolutional/ReLu/max pooling layers followed by the classifier with fully connected layers. Also to get the classifer to work, we flatten the out of the feature extractor module. So we can use it in the classifier. We will use a softmax activation function at the last layer of the classifier. Softmax will turn numeric output (logits) into probabilities that sum to 1."
   ]
  },
  {
   "cell_type": "code",
   "execution_count": 27,
   "id": "76c409b3",
   "metadata": {},
   "outputs": [],
   "source": [
    "image_width = image.width\n",
    "image_height = image.height"
   ]
  },
  {
   "cell_type": "code",
   "execution_count": 28,
   "id": "284efee1",
   "metadata": {},
   "outputs": [],
   "source": [
    "input_data = tf.keras.Input(dtype=tf.float32, \n",
    "                            shape=(image_width, \n",
    "                                   image_height, \n",
    "                                   num_channels), name=\"INPUT\")\n",
    "\n",
    "# First conv-ReLu-MaxPool layer\n",
    "conv1 = tf.keras.layers.Conv2D(filters=6, \n",
    "                               kernel_size=5, \n",
    "                               padding=\"VALID\", \n",
    "                               activation=\"relu\", \n",
    "                               name=\"C1\")(input_data)\n",
    "\n",
    "max_pool1 = tf.keras.layers.MaxPool2D(pool_size=2, \n",
    "                                      strides=2, \n",
    "                                      padding=\"SAME\", \n",
    "                                      name=\"S1\")(conv1)\n",
    "\n",
    "# Second conv-ReLu-MaxPool layer\n",
    "conv2 = tf.keras.layers.Conv2D(filters=16, \n",
    "                               kernel_size=5, \n",
    "                               padding=\"VALID\", \n",
    "                               activation=\"relu\", \n",
    "                               name=\"C3\")(max_pool1)\n",
    "\n",
    "max_pool2 = tf.keras.layers.MaxPool2D(pool_size=2, \n",
    "                                      strides=2, \n",
    "                                      padding=\"SAME\", \n",
    "                                      name=\"S4\")(conv2)\n",
    "\n",
    "# Flatten layer\n",
    "flatten = tf.keras.layers.Flatten(name=\"FLATTEN\")(max_pool2)\n",
    "\n",
    "# First fully connected layer\n",
    "fully_connected1 = tf.keras.layers.Dense(units=120, \n",
    "                                         activation=\"relu\", \n",
    "                                         name=\"F5\")(flatten)\n",
    "\n",
    "# Second fully connected layer\n",
    "fully_connected2 = tf.keras.layers.Dense(units=84, \n",
    "                                         activation=\"relu\", \n",
    "                                         name=\"F6\")(fully_connected1)\n",
    "\n",
    "# Final fully connected layer\n",
    "final_model_output = tf.keras.layers.Dense(units=10, \n",
    "                                           activation=\"softmax\", \n",
    "                                           name=\"OUTPUT\")(fully_connected2)\n",
    "\n",
    "model = tf.keras.Model(inputs=input_data, outputs=final_model_output)"
   ]
  },
  {
   "cell_type": "markdown",
   "id": "f7879907",
   "metadata": {},
   "source": [
    "Next we will compile the model using Adam (Adaptive Moment Estimation) optimizer. Adam uses adaptive learning rates and momentum that allows us to get to local minima faster and so, converge faster.\n",
    "\n",
    "Loss function is a method of evaluating how well your algorithm models your dataset. If your predictions are totally off, your loss function will output a higher number. If they're pretty good, it'll output a lower number.\n",
    "\n",
    "As our targets are integers and not in a one-hot-encoded format, we will use the sparse categorical cross-entropy loss function and then we will add an accuracy metric to determine how accurate the model is in each batch."
   ]
  },
  {
   "cell_type": "code",
   "execution_count": 29,
   "id": "d63e5ed2",
   "metadata": {},
   "outputs": [
    {
     "name": "stdout",
     "output_type": "stream",
     "text": [
      "Model: \"functional_7\"\n",
      "_________________________________________________________________\n",
      "Layer (type)                 Output Shape              Param #   \n",
      "=================================================================\n",
      "INPUT (InputLayer)           [(None, 32, 32, 1)]       0         \n",
      "_________________________________________________________________\n",
      "C1 (Conv2D)                  (None, 28, 28, 6)         156       \n",
      "_________________________________________________________________\n",
      "S1 (MaxPooling2D)            (None, 14, 14, 6)         0         \n",
      "_________________________________________________________________\n",
      "C3 (Conv2D)                  (None, 10, 10, 16)        2416      \n",
      "_________________________________________________________________\n",
      "S4 (MaxPooling2D)            (None, 5, 5, 16)          0         \n",
      "_________________________________________________________________\n",
      "FLATTEN (Flatten)            (None, 400)               0         \n",
      "_________________________________________________________________\n",
      "F5 (Dense)                   (None, 120)               48120     \n",
      "_________________________________________________________________\n",
      "F6 (Dense)                   (None, 84)                10164     \n",
      "_________________________________________________________________\n",
      "OUTPUT (Dense)               (None, 10)                850       \n",
      "=================================================================\n",
      "Total params: 61,706\n",
      "Trainable params: 61,706\n",
      "Non-trainable params: 0\n",
      "_________________________________________________________________\n"
     ]
    }
   ],
   "source": [
    "model.compile(optimizer='adam', loss='sparse_categorical_crossentropy', metrics=['accuracy'])\n",
    "model.summary()"
   ]
  },
  {
   "cell_type": "markdown",
   "id": "3c12d175",
   "metadata": {},
   "source": [
    "The LeNet-5 model has 7 layers and contains 61706 trainable parameters. So, it is time to train the model. We can start training our model and we will loop through the data in randomly chosen batches. Every so often we can choose to evaluate the model on the train and test batches and record the accuracy and loss."
   ]
  },
  {
   "cell_type": "code",
   "execution_count": 30,
   "id": "32ae5ac9",
   "metadata": {},
   "outputs": [
    {
     "name": "stdout",
     "output_type": "stream",
     "text": [
      "16/16 [==============================] - 0s 3ms/step - loss: 2.1737 - accuracy: 0.3460\n",
      "Epoch # 5, Train Loss: 2.19. Train Acc (Test Acc): 0.23 (0.35)\n",
      "16/16 [==============================] - 0s 3ms/step - loss: 1.9760 - accuracy: 0.5780\n",
      "Epoch # 10, Train Loss: 2.01. Train Acc (Test Acc): 0.60 (0.58)\n",
      "16/16 [==============================] - 0s 3ms/step - loss: 1.6060 - accuracy: 0.7300\n",
      "Epoch # 15, Train Loss: 1.71. Train Acc (Test Acc): 0.74 (0.73)\n",
      "16/16 [==============================] - 0s 3ms/step - loss: 1.2112 - accuracy: 0.7720\n",
      "Epoch # 20, Train Loss: 1.32. Train Acc (Test Acc): 0.73 (0.77)\n",
      "16/16 [==============================] - 0s 3ms/step - loss: 0.8707 - accuracy: 0.7980\n",
      "Epoch # 25, Train Loss: 0.93. Train Acc (Test Acc): 0.78 (0.80)\n",
      "16/16 [==============================] - 0s 3ms/step - loss: 0.6751 - accuracy: 0.7940\n",
      "Epoch # 30, Train Loss: 0.82. Train Acc (Test Acc): 0.76 (0.79)\n",
      "16/16 [==============================] - 0s 3ms/step - loss: 0.5111 - accuracy: 0.8460\n",
      "Epoch # 35, Train Loss: 0.60. Train Acc (Test Acc): 0.75 (0.85)\n",
      "16/16 [==============================] - 0s 3ms/step - loss: 0.5526 - accuracy: 0.8140\n",
      "Epoch # 40, Train Loss: 0.41. Train Acc (Test Acc): 0.91 (0.81)\n",
      "16/16 [==============================] - 0s 3ms/step - loss: 0.4932 - accuracy: 0.8520\n",
      "Epoch # 45, Train Loss: 0.51. Train Acc (Test Acc): 0.83 (0.85)\n",
      "16/16 [==============================] - 0s 3ms/step - loss: 0.3824 - accuracy: 0.8700\n",
      "Epoch # 50, Train Loss: 0.50. Train Acc (Test Acc): 0.80 (0.87)\n",
      "16/16 [==============================] - 0s 3ms/step - loss: 0.3617 - accuracy: 0.8860\n",
      "Epoch # 55, Train Loss: 0.36. Train Acc (Test Acc): 0.88 (0.89)\n",
      "16/16 [==============================] - 0s 3ms/step - loss: 0.3589 - accuracy: 0.8780\n",
      "Epoch # 60, Train Loss: 0.37. Train Acc (Test Acc): 0.86 (0.88)\n",
      "16/16 [==============================] - 0s 3ms/step - loss: 0.3742 - accuracy: 0.8840\n",
      "Epoch # 65, Train Loss: 0.39. Train Acc (Test Acc): 0.90 (0.88)\n",
      "16/16 [==============================] - 0s 3ms/step - loss: 0.4148 - accuracy: 0.9000\n",
      "Epoch # 70, Train Loss: 0.49. Train Acc (Test Acc): 0.89 (0.90)\n",
      "16/16 [==============================] - 0s 3ms/step - loss: 0.3315 - accuracy: 0.9180\n",
      "Epoch # 75, Train Loss: 0.39. Train Acc (Test Acc): 0.87 (0.92)\n",
      "16/16 [==============================] - 0s 3ms/step - loss: 0.2865 - accuracy: 0.9080\n",
      "Epoch # 80, Train Loss: 0.45. Train Acc (Test Acc): 0.87 (0.91)\n",
      "16/16 [==============================] - 0s 2ms/step - loss: 0.3571 - accuracy: 0.9000\n",
      "Epoch # 85, Train Loss: 0.30. Train Acc (Test Acc): 0.94 (0.90)\n",
      "16/16 [==============================] - 0s 3ms/step - loss: 0.2879 - accuracy: 0.9220\n",
      "Epoch # 90, Train Loss: 0.41. Train Acc (Test Acc): 0.85 (0.92)\n",
      "16/16 [==============================] - 0s 3ms/step - loss: 0.2728 - accuracy: 0.9260\n",
      "Epoch # 95, Train Loss: 0.29. Train Acc (Test Acc): 0.91 (0.93)\n",
      "16/16 [==============================] - 0s 3ms/step - loss: 0.2858 - accuracy: 0.9160\n",
      "Epoch # 100, Train Loss: 0.21. Train Acc (Test Acc): 0.94 (0.92)\n",
      "16/16 [==============================] - 0s 3ms/step - loss: 0.2937 - accuracy: 0.9120\n",
      "Epoch # 105, Train Loss: 0.17. Train Acc (Test Acc): 0.93 (0.91)\n",
      "16/16 [==============================] - 0s 3ms/step - loss: 0.2673 - accuracy: 0.9160\n",
      "Epoch # 110, Train Loss: 0.30. Train Acc (Test Acc): 0.92 (0.92)\n",
      "16/16 [==============================] - 0s 3ms/step - loss: 0.1978 - accuracy: 0.9360\n",
      "Epoch # 115, Train Loss: 0.21. Train Acc (Test Acc): 0.93 (0.94)\n",
      "16/16 [==============================] - 0s 3ms/step - loss: 0.2887 - accuracy: 0.9180\n",
      "Epoch # 120, Train Loss: 0.45. Train Acc (Test Acc): 0.86 (0.92)\n",
      "16/16 [==============================] - 0s 3ms/step - loss: 0.2644 - accuracy: 0.9240\n",
      "Epoch # 125, Train Loss: 0.16. Train Acc (Test Acc): 0.96 (0.92)\n",
      "16/16 [==============================] - 0s 3ms/step - loss: 0.1739 - accuracy: 0.9400\n",
      "Epoch # 130, Train Loss: 0.27. Train Acc (Test Acc): 0.90 (0.94)\n",
      "16/16 [==============================] - 0s 3ms/step - loss: 0.2494 - accuracy: 0.9200\n",
      "Epoch # 135, Train Loss: 0.14. Train Acc (Test Acc): 0.95 (0.92)\n",
      "16/16 [==============================] - 0s 3ms/step - loss: 0.2300 - accuracy: 0.9360\n",
      "Epoch # 140, Train Loss: 0.20. Train Acc (Test Acc): 0.94 (0.94)\n",
      "16/16 [==============================] - 0s 3ms/step - loss: 0.2008 - accuracy: 0.9380\n",
      "Epoch # 145, Train Loss: 0.31. Train Acc (Test Acc): 0.93 (0.94)\n",
      "16/16 [==============================] - 0s 3ms/step - loss: 0.2835 - accuracy: 0.9120\n",
      "Epoch # 150, Train Loss: 0.28. Train Acc (Test Acc): 0.91 (0.91)\n",
      "16/16 [==============================] - 0s 3ms/step - loss: 0.2244 - accuracy: 0.9340\n",
      "Epoch # 155, Train Loss: 0.33. Train Acc (Test Acc): 0.90 (0.93)\n",
      "16/16 [==============================] - 0s 3ms/step - loss: 0.1567 - accuracy: 0.9480\n",
      "Epoch # 160, Train Loss: 0.17. Train Acc (Test Acc): 0.93 (0.95)\n",
      "16/16 [==============================] - 0s 3ms/step - loss: 0.2113 - accuracy: 0.9560\n",
      "Epoch # 165, Train Loss: 0.15. Train Acc (Test Acc): 0.96 (0.96)\n",
      "16/16 [==============================] - 0s 3ms/step - loss: 0.1880 - accuracy: 0.9440\n",
      "Epoch # 170, Train Loss: 0.25. Train Acc (Test Acc): 0.89 (0.94)\n",
      "16/16 [==============================] - 0s 3ms/step - loss: 0.2091 - accuracy: 0.9420\n",
      "Epoch # 175, Train Loss: 0.30. Train Acc (Test Acc): 0.91 (0.94)\n",
      "16/16 [==============================] - 0s 3ms/step - loss: 0.1778 - accuracy: 0.9520\n",
      "Epoch # 180, Train Loss: 0.24. Train Acc (Test Acc): 0.95 (0.95)\n",
      "16/16 [==============================] - 0s 3ms/step - loss: 0.1472 - accuracy: 0.9640\n",
      "Epoch # 185, Train Loss: 0.17. Train Acc (Test Acc): 0.95 (0.96)\n",
      "16/16 [==============================] - 0s 3ms/step - loss: 0.1933 - accuracy: 0.9420\n",
      "Epoch # 190, Train Loss: 0.29. Train Acc (Test Acc): 0.92 (0.94)\n",
      "16/16 [==============================] - 0s 3ms/step - loss: 0.1574 - accuracy: 0.9640\n",
      "Epoch # 195, Train Loss: 0.19. Train Acc (Test Acc): 0.96 (0.96)\n",
      "16/16 [==============================] - 0s 3ms/step - loss: 0.2003 - accuracy: 0.9420\n",
      "Epoch # 200, Train Loss: 0.23. Train Acc (Test Acc): 0.93 (0.94)\n",
      "16/16 [==============================] - 0s 3ms/step - loss: 0.2359 - accuracy: 0.9240\n",
      "Epoch # 205, Train Loss: 0.25. Train Acc (Test Acc): 0.93 (0.92)\n",
      "16/16 [==============================] - 0s 3ms/step - loss: 0.1745 - accuracy: 0.9620\n",
      "Epoch # 210, Train Loss: 0.09. Train Acc (Test Acc): 0.97 (0.96)\n",
      "16/16 [==============================] - 0s 3ms/step - loss: 0.1693 - accuracy: 0.9540\n",
      "Epoch # 215, Train Loss: 0.38. Train Acc (Test Acc): 0.91 (0.95)\n",
      "16/16 [==============================] - 0s 3ms/step - loss: 0.1373 - accuracy: 0.9580\n",
      "Epoch # 220, Train Loss: 0.12. Train Acc (Test Acc): 0.97 (0.96)\n",
      "16/16 [==============================] - 0s 3ms/step - loss: 0.1780 - accuracy: 0.9440\n",
      "Epoch # 225, Train Loss: 0.14. Train Acc (Test Acc): 0.94 (0.94)\n",
      "16/16 [==============================] - 0s 3ms/step - loss: 0.1468 - accuracy: 0.9460\n",
      "Epoch # 230, Train Loss: 0.16. Train Acc (Test Acc): 0.94 (0.95)\n",
      "16/16 [==============================] - 0s 3ms/step - loss: 0.1859 - accuracy: 0.9500\n",
      "Epoch # 235, Train Loss: 0.24. Train Acc (Test Acc): 0.93 (0.95)\n",
      "16/16 [==============================] - 0s 3ms/step - loss: 0.1648 - accuracy: 0.9400\n",
      "Epoch # 240, Train Loss: 0.19. Train Acc (Test Acc): 0.95 (0.94)\n",
      "16/16 [==============================] - 0s 3ms/step - loss: 0.1361 - accuracy: 0.9560\n",
      "Epoch # 245, Train Loss: 0.13. Train Acc (Test Acc): 0.97 (0.96)\n",
      "16/16 [==============================] - 0s 3ms/step - loss: 0.1918 - accuracy: 0.9420\n",
      "Epoch # 250, Train Loss: 0.28. Train Acc (Test Acc): 0.94 (0.94)\n",
      "16/16 [==============================] - 0s 3ms/step - loss: 0.1983 - accuracy: 0.9480\n",
      "Epoch # 255, Train Loss: 0.08. Train Acc (Test Acc): 0.97 (0.95)\n",
      "16/16 [==============================] - 0s 3ms/step - loss: 0.1563 - accuracy: 0.9540\n",
      "Epoch # 260, Train Loss: 0.12. Train Acc (Test Acc): 0.97 (0.95)\n",
      "16/16 [==============================] - 0s 3ms/step - loss: 0.1444 - accuracy: 0.9520\n",
      "Epoch # 265, Train Loss: 0.22. Train Acc (Test Acc): 0.92 (0.95)\n",
      "16/16 [==============================] - 0s 3ms/step - loss: 0.1596 - accuracy: 0.9560\n",
      "Epoch # 270, Train Loss: 0.19. Train Acc (Test Acc): 0.93 (0.96)\n"
     ]
    },
    {
     "name": "stdout",
     "output_type": "stream",
     "text": [
      "16/16 [==============================] - 0s 3ms/step - loss: 0.1664 - accuracy: 0.9520\n",
      "Epoch # 275, Train Loss: 0.25. Train Acc (Test Acc): 0.91 (0.95)\n",
      "16/16 [==============================] - 0s 3ms/step - loss: 0.1441 - accuracy: 0.9620\n",
      "Epoch # 280, Train Loss: 0.14. Train Acc (Test Acc): 0.97 (0.96)\n",
      "16/16 [==============================] - 0s 3ms/step - loss: 0.1347 - accuracy: 0.9580\n",
      "Epoch # 285, Train Loss: 0.15. Train Acc (Test Acc): 0.96 (0.96)\n",
      "16/16 [==============================] - 0s 3ms/step - loss: 0.1834 - accuracy: 0.9380\n",
      "Epoch # 290, Train Loss: 0.18. Train Acc (Test Acc): 0.95 (0.94)\n",
      "16/16 [==============================] - 0s 3ms/step - loss: 0.1483 - accuracy: 0.9580\n",
      "Epoch # 295, Train Loss: 0.12. Train Acc (Test Acc): 0.97 (0.96)\n",
      "16/16 [==============================] - 0s 3ms/step - loss: 0.1323 - accuracy: 0.9660\n",
      "Epoch # 300, Train Loss: 0.11. Train Acc (Test Acc): 0.97 (0.97)\n"
     ]
    }
   ],
   "source": [
    "train_loss = []\n",
    "train_acc = []\n",
    "test_acc = []\n",
    "\n",
    "for i in range(epochs):\n",
    "  rand_index = np.random.choice(len(x_train), size=batch_size)\n",
    "  rand_x = x_train[rand_index]\n",
    "  rand_y = y_train[rand_index]\n",
    "\n",
    "  history_train = model.train_on_batch(rand_x, rand_y)\n",
    "\n",
    "  if(i+1) % eval_every == 0:\n",
    "    eval_index =np.random.choice(len(x_test), size=evaluation_size)\n",
    "    eval_x = x_test[eval_index]\n",
    "    eval_y = y_test[eval_index]\n",
    "\n",
    "    history_eval = model.evaluate(eval_x, eval_y)\n",
    "\n",
    "    # Record and print results\n",
    "    train_loss.append(history_train[0])\n",
    "    train_acc.append(history_train[1])\n",
    "    test_acc.append(history_eval[1])\n",
    "    acc_and_loss = [(i+1), history_train[0], history_train[1], history_eval[1]]\n",
    "    acc_and_loss =[np.round(x,2) for x in acc_and_loss]\n",
    "    print('Epoch # {}, Train Loss: {:.2f}. Train Acc (Test Acc): {:.2f} ({:.2f})'.format(*acc_and_loss))\n"
   ]
  },
  {
   "cell_type": "markdown",
   "id": "633981e6",
   "metadata": {},
   "source": [
    "As can be seen from the above result after 300 epochs, the accuracy is around 96-97%"
   ]
  },
  {
   "cell_type": "code",
   "execution_count": 32,
   "id": "8dfe2a1c",
   "metadata": {},
   "outputs": [
    {
     "data": {
      "image/png": "[encoded data removed]",
      "text/plain": [
       "<Figure size 432x288 with 1 Axes>"
      ]
     },
     "metadata": {
      "needs_background": "light"
     },
     "output_type": "display_data"
    },
    {
     "data": {
      "image/png": "[encoded data removed]",
      "text/plain": [
       "<Figure size 432x288 with 1 Axes>"
      ]
     },
     "metadata": {
      "needs_background": "light"
     },
     "output_type": "display_data"
    }
   ],
   "source": [
    "# Matplotlib code to plot the loss and accuracy\n",
    "eval_indices = range(0, epochs, eval_every)\n",
    "# Plot loss over time\n",
    "plt.plot(eval_indices, train_loss, 'k-')\n",
    "plt.title('Loss per Epoch')\n",
    "plt.xlabel('Epoch')\n",
    "plt.ylabel('Loss')\n",
    "plt.show()\n",
    "# Plot train and test accuracy\n",
    "plt.plot(eval_indices, train_acc, 'k-', label='Train Set Accuracy')\n",
    "plt.plot(eval_indices, test_acc, 'r--', label='Test Set Accuracy')\n",
    "plt.title('Train and Test Accuracy')\n",
    "plt.xlabel('Epoch')\n",
    "plt.ylabel('Accuracy')\n",
    "plt.legend(loc='lower right')\n",
    "plt.show()\n"
   ]
  },
  {
   "cell_type": "markdown",
   "id": "1f742993",
   "metadata": {},
   "source": [
    "The bottom graph is the train and test set accuracy across 300 training epochs and the top plot is the softmax loss value over 300 epochs."
   ]
  },
  {
   "cell_type": "markdown",
   "id": "1a66f32c",
   "metadata": {},
   "source": [
    "If we want to plot a sample of the latest batch result we can plot it."
   ]
  },
  {
   "cell_type": "code",
   "execution_count": 33,
   "id": "3687f038",
   "metadata": {},
   "outputs": [
    {
     "data": {
      "image/png": "[encoded data removed]",
      "text/plain": [
       "<Figure size 432x288 with 6 Axes>"
      ]
     },
     "metadata": {
      "needs_background": "light"
     },
     "output_type": "display_data"
    }
   ],
   "source": [
    "# Plot some samples and their predictions\n",
    "actuals = y_test[30:36]\n",
    "preds = model.predict(x_test[30:36])\n",
    "predictions = np.argmax(preds, axis=1)\n",
    "images = np.squeeze(x_test[30:36])\n",
    "Nrows = 2\n",
    "Ncols = 3\n",
    "\n",
    "for i in range(6):\n",
    "  plt.subplot(Nrows, Ncols, i+1)\n",
    "  plt.imshow(np.reshape(images[i], [32,32]), cmap='Greys_r')\n",
    "  plt.title('Actual: ' + str(actuals[i]) + ' Pred: ' + str(predictions[i]), fontsize=10)\n",
    "  frame = plt.gca()\n",
    "  frame.axes.get_xaxis().set_visible(False)\n",
    "  frame.axes.get_yaxis().set_visible(False)\n",
    "\n",
    "plt.show()\n"
   ]
  },
  {
   "cell_type": "markdown",
   "id": "8efca7a6",
   "metadata": {},
   "source": [
    "According to the above result, a simple CNN Model was built successfully. It has good results in accuracy and loss for this project."
   ]
  },
  {
   "cell_type": "markdown",
   "id": "0a9c2f91",
   "metadata": {},
   "source": [
    "We did increase our performance on the MNIST dataset and built a model that has 97% of accuracy while we train the model from scratch. Our features extractor module is a combination of convolutions, ReLu and max pooling. Our classifier is a stack of fully connected layers. We trained in batches of size 100 and we also plotted the accuracy and loss across the epochs. Finally, we did plot 6 random digits and found that the model predicted only 1 wrong image. The model predict 6 but the actual image is 4."
   ]
  },
  {
   "cell_type": "markdown",
   "id": "1a9f2f0d",
   "metadata": {},
   "source": [
    "CNN is a very good model for image recognition. The reason for that is the convolutional layer creates it's low-level features which are activated when they come across a part of the image that is crucial. This type of model creates features on it's own and uses them for prediction."
   ]
  },
  {
   "cell_type": "code",
   "execution_count": null,
   "id": "1411ff01",
   "metadata": {},
   "outputs": [],
   "source": []
  }
 ],
 "metadata": {
  "kernelspec": {
   "display_name": "Python 3",
   "language": "python",
   "name": "python3"
  },
  "language_info": {
   "codemirror_mode": {
    "name": "ipython",
    "version": 3
   },
   "file_extension": ".py",
   "mimetype": "text/x-python",
   "name": "python",
   "nbconvert_exporter": "python",
   "pygments_lexer": "ipython3",
   "version": "3.8.8"
  }
 },
 "nbformat": 4,
 "nbformat_minor": 5
}
