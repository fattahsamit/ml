{
  "nbformat": 4,
  "nbformat_minor": 0,
  "metadata": {
    "colab": {
      "name": "NumPy Array",
      "provenance": [],
      "collapsed_sections": [],
      "authorship_tag": "ABX9TyM6sVkETpWUb18mMIRSAaDV",
      "include_colab_link": true
    },
    "kernelspec": {
      "name": "python3",
      "display_name": "Python 3"
    },
    "language_info": {
      "name": "python"
    }
  },
  "cells": [
    {
      "cell_type": "markdown",
      "metadata": {
        "id": "view-in-github",
        "colab_type": "text"
      },
      "source": [
        "<a href=\"https://colab.research.google.com/github/fattahsamit/ml/blob/main/ML_Basics/NumPy_Array.ipynb\" target=\"_parent\"><img src=\"https://colab.research.google.com/assets/colab-badge.svg\" alt=\"Open In Colab\"/></a>"
      ]
    },
    {
      "cell_type": "code",
      "execution_count": 90,
      "metadata": {
        "id": "-lFPdkMgtBOJ",
        "colab": {
          "base_uri": "https://localhost:8080/"
        },
        "outputId": "811a93fb-2d1a-480b-e16c-9244e59ee6da"
      },
      "outputs": [
        {
          "output_type": "stream",
          "name": "stdout",
          "text": [
            "Requirement already satisfied: numpy in /usr/local/lib/python3.7/dist-packages (1.21.6)\n"
          ]
        }
      ],
      "source": [
        "!pip install numpy"
      ]
    },
    {
      "cell_type": "code",
      "source": [
        "import numpy as np"
      ],
      "metadata": {
        "id": "omL2jjqsUqAn"
      },
      "execution_count": 91,
      "outputs": []
    },
    {
      "cell_type": "code",
      "source": [
        "python_list = [1, 2, 3, 4, 5]\n",
        "\n",
        "arr = np.array(python_list)\n",
        "arr"
      ],
      "metadata": {
        "colab": {
          "base_uri": "https://localhost:8080/"
        },
        "id": "a0l6GM4kWQiJ",
        "outputId": "a4c30ec5-45e2-4b97-cdfb-c27f9f68de48"
      },
      "execution_count": 92,
      "outputs": [
        {
          "output_type": "execute_result",
          "data": {
            "text/plain": [
              "array([1, 2, 3, 4, 5])"
            ]
          },
          "metadata": {},
          "execution_count": 92
        }
      ]
    },
    {
      "cell_type": "code",
      "source": [
        "python_list = [[1, 2, 3, 4, 5], [6, 7, 8, 9, 10]]\n",
        "\n",
        "arr = np.array(python_list)\n",
        "arr"
      ],
      "metadata": {
        "colab": {
          "base_uri": "https://localhost:8080/"
        },
        "id": "OXqh2W2ScmOo",
        "outputId": "03d967aa-4732-44d5-f366-22474cc3b485"
      },
      "execution_count": 93,
      "outputs": [
        {
          "output_type": "execute_result",
          "data": {
            "text/plain": [
              "array([[ 1,  2,  3,  4,  5],\n",
              "       [ 6,  7,  8,  9, 10]])"
            ]
          },
          "metadata": {},
          "execution_count": 93
        }
      ]
    },
    {
      "cell_type": "code",
      "source": [
        "arr = np.arange(0, 10)\n",
        "print(arr)"
      ],
      "metadata": {
        "colab": {
          "base_uri": "https://localhost:8080/"
        },
        "id": "VIeJ-VIFc8UH",
        "outputId": "e6bb1f4d-740e-456e-f880-c8276ca2d166"
      },
      "execution_count": 94,
      "outputs": [
        {
          "output_type": "stream",
          "name": "stdout",
          "text": [
            "[0 1 2 3 4 5 6 7 8 9]\n"
          ]
        }
      ]
    },
    {
      "cell_type": "code",
      "source": [
        "arr = np.arange(1, 11, 2)\n",
        "arr"
      ],
      "metadata": {
        "colab": {
          "base_uri": "https://localhost:8080/"
        },
        "id": "jd881VGzdJbg",
        "outputId": "9ba9ec06-1a2b-4e6d-939d-2d7444fc3452"
      },
      "execution_count": 95,
      "outputs": [
        {
          "output_type": "execute_result",
          "data": {
            "text/plain": [
              "array([1, 3, 5, 7, 9])"
            ]
          },
          "metadata": {},
          "execution_count": 95
        }
      ]
    },
    {
      "cell_type": "code",
      "source": [
        "print(np.zeros(5))\n",
        "print(\"\\n\")\n",
        "\n",
        "np.zeros((4,3), dtype=int)"
      ],
      "metadata": {
        "colab": {
          "base_uri": "https://localhost:8080/"
        },
        "id": "98i5dCEAqARJ",
        "outputId": "8ecbfb29-8c4a-4569-b7e1-13945c17c047"
      },
      "execution_count": 96,
      "outputs": [
        {
          "output_type": "stream",
          "name": "stdout",
          "text": [
            "[0. 0. 0. 0. 0.]\n",
            "\n",
            "\n"
          ]
        },
        {
          "output_type": "execute_result",
          "data": {
            "text/plain": [
              "array([[0, 0, 0],\n",
              "       [0, 0, 0],\n",
              "       [0, 0, 0],\n",
              "       [0, 0, 0]])"
            ]
          },
          "metadata": {},
          "execution_count": 96
        }
      ]
    },
    {
      "cell_type": "code",
      "source": [
        "np.ones((4,3))"
      ],
      "metadata": {
        "colab": {
          "base_uri": "https://localhost:8080/"
        },
        "id": "e6L95Xy1tk9q",
        "outputId": "94a19fcf-a370-462e-d71a-68394b8d42a9"
      },
      "execution_count": 97,
      "outputs": [
        {
          "output_type": "execute_result",
          "data": {
            "text/plain": [
              "array([[1., 1., 1.],\n",
              "       [1., 1., 1.],\n",
              "       [1., 1., 1.],\n",
              "       [1., 1., 1.]])"
            ]
          },
          "metadata": {},
          "execution_count": 97
        }
      ]
    },
    {
      "cell_type": "code",
      "source": [
        "np.ones((4,3,5), dtype=int)"
      ],
      "metadata": {
        "colab": {
          "base_uri": "https://localhost:8080/"
        },
        "id": "nxifU0uEw8aR",
        "outputId": "746ff9ae-efd3-409a-eb4e-bac77aa4edaf"
      },
      "execution_count": 98,
      "outputs": [
        {
          "output_type": "execute_result",
          "data": {
            "text/plain": [
              "array([[[1, 1, 1, 1, 1],\n",
              "        [1, 1, 1, 1, 1],\n",
              "        [1, 1, 1, 1, 1]],\n",
              "\n",
              "       [[1, 1, 1, 1, 1],\n",
              "        [1, 1, 1, 1, 1],\n",
              "        [1, 1, 1, 1, 1]],\n",
              "\n",
              "       [[1, 1, 1, 1, 1],\n",
              "        [1, 1, 1, 1, 1],\n",
              "        [1, 1, 1, 1, 1]],\n",
              "\n",
              "       [[1, 1, 1, 1, 1],\n",
              "        [1, 1, 1, 1, 1],\n",
              "        [1, 1, 1, 1, 1]]])"
            ]
          },
          "metadata": {},
          "execution_count": 98
        }
      ]
    },
    {
      "cell_type": "code",
      "source": [
        "np.full((4,3), 10)"
      ],
      "metadata": {
        "colab": {
          "base_uri": "https://localhost:8080/"
        },
        "id": "hiXHgERWxK4I",
        "outputId": "b9606bb0-1919-4455-be74-c13c9185e73b"
      },
      "execution_count": 99,
      "outputs": [
        {
          "output_type": "execute_result",
          "data": {
            "text/plain": [
              "array([[10, 10, 10],\n",
              "       [10, 10, 10],\n",
              "       [10, 10, 10],\n",
              "       [10, 10, 10]])"
            ]
          },
          "metadata": {},
          "execution_count": 99
        }
      ]
    },
    {
      "cell_type": "code",
      "source": [
        "# Identity matrix\n",
        "np.eye(4)"
      ],
      "metadata": {
        "colab": {
          "base_uri": "https://localhost:8080/"
        },
        "id": "2atX_b5AxjjJ",
        "outputId": "a61a2275-01c6-4cd2-a954-bad8e847bc35"
      },
      "execution_count": 100,
      "outputs": [
        {
          "output_type": "execute_result",
          "data": {
            "text/plain": [
              "array([[1., 0., 0., 0.],\n",
              "       [0., 1., 0., 0.],\n",
              "       [0., 0., 1., 0.],\n",
              "       [0., 0., 0., 1.]])"
            ]
          },
          "metadata": {},
          "execution_count": 100
        }
      ]
    },
    {
      "cell_type": "code",
      "source": [
        "np.linspace(-1,1,5)"
      ],
      "metadata": {
        "colab": {
          "base_uri": "https://localhost:8080/"
        },
        "id": "kUCGF4FDye2Z",
        "outputId": "968421d0-c944-455e-c97e-b0fc18fb86d3"
      },
      "execution_count": 101,
      "outputs": [
        {
          "output_type": "execute_result",
          "data": {
            "text/plain": [
              "array([-1. , -0.5,  0. ,  0.5,  1. ])"
            ]
          },
          "metadata": {},
          "execution_count": 101
        }
      ]
    },
    {
      "cell_type": "code",
      "source": [
        "np.logspace(0,10,7, base=np.e)\n",
        "\n",
        "# np.logspace(0,10,7)\n",
        "\n",
        "# np.logspace(0,10,7, base=2)"
      ],
      "metadata": {
        "colab": {
          "base_uri": "https://localhost:8080/"
        },
        "id": "3VoCHoX5yzVp",
        "outputId": "c342ead2-50ce-4647-d528-e19fcb42388f"
      },
      "execution_count": 102,
      "outputs": [
        {
          "output_type": "execute_result",
          "data": {
            "text/plain": [
              "array([1.00000000e+00, 5.29449005e+00, 2.80316249e+01, 1.48413159e+02,\n",
              "       7.85771994e+02, 4.16026201e+03, 2.20264658e+04])"
            ]
          },
          "metadata": {},
          "execution_count": 102
        }
      ]
    },
    {
      "cell_type": "code",
      "source": [
        "# Diagonal matrix\n",
        "np.diag([4,5,6])"
      ],
      "metadata": {
        "colab": {
          "base_uri": "https://localhost:8080/"
        },
        "id": "guefeiX-zqph",
        "outputId": "0ef18443-8519-4667-d82b-e8f2584c7741"
      },
      "execution_count": 103,
      "outputs": [
        {
          "output_type": "execute_result",
          "data": {
            "text/plain": [
              "array([[4, 0, 0],\n",
              "       [0, 5, 0],\n",
              "       [0, 0, 6]])"
            ]
          },
          "metadata": {},
          "execution_count": 103
        }
      ]
    },
    {
      "cell_type": "code",
      "source": [
        "np.random.rand(4)\n",
        "\n",
        "np.random.rand(2,2,2)\n",
        "\n",
        "np.random.rand(3,4)"
      ],
      "metadata": {
        "id": "HlS8F_cr0KIh",
        "colab": {
          "base_uri": "https://localhost:8080/"
        },
        "outputId": "b76fb4da-f7a4-4993-efc3-c1c9cdfb4e2a"
      },
      "execution_count": 104,
      "outputs": [
        {
          "output_type": "execute_result",
          "data": {
            "text/plain": [
              "array([[0.4841574 , 0.45395565, 0.66532262, 0.16460471],\n",
              "       [0.97082983, 0.08361426, 0.27244281, 0.2483066 ],\n",
              "       [0.40761893, 0.94464954, 0.48898503, 0.45499747]])"
            ]
          },
          "metadata": {},
          "execution_count": 104
        }
      ]
    },
    {
      "cell_type": "code",
      "source": [
        "np.random.randn(2,3)"
      ],
      "metadata": {
        "colab": {
          "base_uri": "https://localhost:8080/"
        },
        "id": "2aRMuFqSjm3u",
        "outputId": "d3effa86-92cf-480b-b820-7738a2492f77"
      },
      "execution_count": 105,
      "outputs": [
        {
          "output_type": "execute_result",
          "data": {
            "text/plain": [
              "array([[ 0.31481046, -0.79621456, -0.44753045],\n",
              "       [ 0.91316249,  0.13062608, -0.45175683]])"
            ]
          },
          "metadata": {},
          "execution_count": 105
        }
      ]
    },
    {
      "cell_type": "code",
      "source": [
        "arr = np.random.randint(0,10,10)\n",
        "arr"
      ],
      "metadata": {
        "colab": {
          "base_uri": "https://localhost:8080/"
        },
        "id": "KbriPA5IkX6V",
        "outputId": "191d606d-fcae-4145-b949-3e4b95c880ef"
      },
      "execution_count": 106,
      "outputs": [
        {
          "output_type": "execute_result",
          "data": {
            "text/plain": [
              "array([9, 4, 0, 5, 1, 3, 8, 6, 9, 1])"
            ]
          },
          "metadata": {},
          "execution_count": 106
        }
      ]
    },
    {
      "cell_type": "code",
      "source": [
        "arr.reshape(2,5)"
      ],
      "metadata": {
        "colab": {
          "base_uri": "https://localhost:8080/"
        },
        "id": "Mbloav1Eka80",
        "outputId": "6325db23-d201-4f13-c0f1-fc2ec44681ea"
      },
      "execution_count": 107,
      "outputs": [
        {
          "output_type": "execute_result",
          "data": {
            "text/plain": [
              "array([[9, 4, 0, 5, 1],\n",
              "       [3, 8, 6, 9, 1]])"
            ]
          },
          "metadata": {},
          "execution_count": 107
        }
      ]
    },
    {
      "cell_type": "code",
      "source": [
        "arr = np.random.randint(0,10,(4,3))\n",
        "arr"
      ],
      "metadata": {
        "colab": {
          "base_uri": "https://localhost:8080/"
        },
        "id": "RezNyNsDo3n0",
        "outputId": "eed278d8-c17b-4ea3-d44e-9b7c16efe1a7"
      },
      "execution_count": 108,
      "outputs": [
        {
          "output_type": "execute_result",
          "data": {
            "text/plain": [
              "array([[4, 1, 3],\n",
              "       [5, 1, 8],\n",
              "       [5, 1, 4],\n",
              "       [9, 1, 6]])"
            ]
          },
          "metadata": {},
          "execution_count": 108
        }
      ]
    },
    {
      "cell_type": "code",
      "source": [
        "arr.reshape(6,2)"
      ],
      "metadata": {
        "colab": {
          "base_uri": "https://localhost:8080/"
        },
        "id": "ly0vdGaVpg_k",
        "outputId": "057d9541-6704-414a-c3b2-f3dfa365d046"
      },
      "execution_count": 109,
      "outputs": [
        {
          "output_type": "execute_result",
          "data": {
            "text/plain": [
              "array([[4, 1],\n",
              "       [3, 5],\n",
              "       [1, 8],\n",
              "       [5, 1],\n",
              "       [4, 9],\n",
              "       [1, 6]])"
            ]
          },
          "metadata": {},
          "execution_count": 109
        }
      ]
    },
    {
      "cell_type": "code",
      "source": [
        "arr = np.random.randint(0,100,(4,3))\n",
        "print(arr)\n",
        "\n",
        "print(arr.max())\n",
        "\n",
        "# Index containing the max value\n",
        "print(arr.argmax())"
      ],
      "metadata": {
        "colab": {
          "base_uri": "https://localhost:8080/"
        },
        "id": "wLGRyMDNpmwM",
        "outputId": "6f517f75-dd2b-4309-e683-192c1d78cd36"
      },
      "execution_count": 110,
      "outputs": [
        {
          "output_type": "stream",
          "name": "stdout",
          "text": [
            "[[47 35 91]\n",
            " [77 17 48]\n",
            " [43 25 23]\n",
            " [30 79 70]]\n",
            "91\n",
            "2\n"
          ]
        }
      ]
    },
    {
      "cell_type": "code",
      "source": [
        "arr = np.random.randint(0,100,(4,3))\n",
        "print(arr)\n",
        "\n",
        "print(arr.min())\n",
        "\n",
        "# Index containing the max value\n",
        "print(arr.argmin())"
      ],
      "metadata": {
        "colab": {
          "base_uri": "https://localhost:8080/"
        },
        "id": "_gM3iRnEp-yc",
        "outputId": "8c11337e-324c-4d2a-a489-a233d40fc75f"
      },
      "execution_count": 111,
      "outputs": [
        {
          "output_type": "stream",
          "name": "stdout",
          "text": [
            "[[97 18 96]\n",
            " [20 82 28]\n",
            " [ 4 29 55]\n",
            " [44 83 37]]\n",
            "4\n",
            "6\n"
          ]
        }
      ]
    },
    {
      "cell_type": "code",
      "source": [
        "arr.shape"
      ],
      "metadata": {
        "colab": {
          "base_uri": "https://localhost:8080/"
        },
        "id": "zDy8GRnTqLks",
        "outputId": "73a4ea9b-30af-4055-bc39-e59037ffd148"
      },
      "execution_count": 112,
      "outputs": [
        {
          "output_type": "execute_result",
          "data": {
            "text/plain": [
              "(4, 3)"
            ]
          },
          "metadata": {},
          "execution_count": 112
        }
      ]
    },
    {
      "cell_type": "code",
      "source": [
        "# Show dimension of the array\n",
        "arr.ndim"
      ],
      "metadata": {
        "colab": {
          "base_uri": "https://localhost:8080/"
        },
        "id": "qywvYw8GrqbM",
        "outputId": "874149bb-9791-4e4b-fec3-c409e9f85620"
      },
      "execution_count": 113,
      "outputs": [
        {
          "output_type": "execute_result",
          "data": {
            "text/plain": [
              "2"
            ]
          },
          "metadata": {},
          "execution_count": 113
        }
      ]
    },
    {
      "cell_type": "code",
      "source": [
        "arr.size"
      ],
      "metadata": {
        "colab": {
          "base_uri": "https://localhost:8080/"
        },
        "id": "w2uzHAH0sCBM",
        "outputId": "11481812-ec1b-477a-e18b-21b62e11ad65"
      },
      "execution_count": 114,
      "outputs": [
        {
          "output_type": "execute_result",
          "data": {
            "text/plain": [
              "12"
            ]
          },
          "metadata": {},
          "execution_count": 114
        }
      ]
    },
    {
      "cell_type": "code",
      "source": [
        "arr.dtype"
      ],
      "metadata": {
        "colab": {
          "base_uri": "https://localhost:8080/"
        },
        "id": "ADMxCTMFsL1k",
        "outputId": "0fe70ccc-bf5c-42f7-cb8f-ef667562e8a8"
      },
      "execution_count": 115,
      "outputs": [
        {
          "output_type": "execute_result",
          "data": {
            "text/plain": [
              "dtype('int64')"
            ]
          },
          "metadata": {},
          "execution_count": 115
        }
      ]
    },
    {
      "cell_type": "code",
      "source": [
        "arr = np.random.rand(4,3)\n",
        "arr.dtype"
      ],
      "metadata": {
        "colab": {
          "base_uri": "https://localhost:8080/"
        },
        "id": "ddvxb7HAsSMM",
        "outputId": "8a28d6a3-2ed8-417f-a549-7ecdf491a072"
      },
      "execution_count": 116,
      "outputs": [
        {
          "output_type": "execute_result",
          "data": {
            "text/plain": [
              "dtype('float64')"
            ]
          },
          "metadata": {},
          "execution_count": 116
        }
      ]
    },
    {
      "cell_type": "code",
      "source": [
        "# returns the size (in bytes) of each element of a NumPy array\n",
        "arr.itemsize"
      ],
      "metadata": {
        "colab": {
          "base_uri": "https://localhost:8080/"
        },
        "id": "uaDb08hMst8L",
        "outputId": "c3e4cacd-815e-445a-d0b9-888a8cb5cf40"
      },
      "execution_count": 117,
      "outputs": [
        {
          "output_type": "execute_result",
          "data": {
            "text/plain": [
              "8"
            ]
          },
          "metadata": {},
          "execution_count": 117
        }
      ]
    },
    {
      "cell_type": "code",
      "source": [
        "arr2 = arr\n",
        "\n",
        "print(arr.data)\n",
        "print(arr2.data)"
      ],
      "metadata": {
        "colab": {
          "base_uri": "https://localhost:8080/"
        },
        "id": "1M65RyH8v-pM",
        "outputId": "c1d137bb-b2d2-4839-ca16-95559d6b563a"
      },
      "execution_count": 118,
      "outputs": [
        {
          "output_type": "stream",
          "name": "stdout",
          "text": [
            "<memory at 0x7f69d3ab4d70>\n",
            "<memory at 0x7f69d3ab4d70>\n"
          ]
        }
      ]
    },
    {
      "cell_type": "markdown",
      "source": [
        "**Array Indexing**"
      ],
      "metadata": {
        "id": "5xDydByLKI2u"
      }
    },
    {
      "cell_type": "code",
      "source": [
        "sample_arr = np.random.randint(0,100,10)\n",
        "\n",
        "sample_arr"
      ],
      "metadata": {
        "id": "hdvXj-1qwsKc",
        "colab": {
          "base_uri": "https://localhost:8080/"
        },
        "outputId": "35060ee4-d61a-40c6-c290-3e912d1b99bb"
      },
      "execution_count": 119,
      "outputs": [
        {
          "output_type": "execute_result",
          "data": {
            "text/plain": [
              "array([92, 53, 85, 77,  6, 52, 69, 52,  0, 79])"
            ]
          },
          "metadata": {},
          "execution_count": 119
        }
      ]
    },
    {
      "cell_type": "code",
      "source": [
        "sample_arr[3]"
      ],
      "metadata": {
        "colab": {
          "base_uri": "https://localhost:8080/"
        },
        "id": "9_81aXNbJW2H",
        "outputId": "44418ce7-538a-492b-d949-6c0aa3f5696c"
      },
      "execution_count": 120,
      "outputs": [
        {
          "output_type": "execute_result",
          "data": {
            "text/plain": [
              "77"
            ]
          },
          "metadata": {},
          "execution_count": 120
        }
      ]
    },
    {
      "cell_type": "code",
      "source": [
        "for data in sample_arr:\n",
        "  print(data)"
      ],
      "metadata": {
        "colab": {
          "base_uri": "https://localhost:8080/"
        },
        "id": "lUbJTj3eJkd_",
        "outputId": "ffb9a085-b3f3-41fe-9fd4-f338cbe92286"
      },
      "execution_count": 121,
      "outputs": [
        {
          "output_type": "stream",
          "name": "stdout",
          "text": [
            "92\n",
            "53\n",
            "85\n",
            "77\n",
            "6\n",
            "52\n",
            "69\n",
            "52\n",
            "0\n",
            "79\n"
          ]
        }
      ]
    },
    {
      "cell_type": "code",
      "source": [
        "for i in range(len(sample_arr)):\n",
        "  print(sample_arr[i])"
      ],
      "metadata": {
        "colab": {
          "base_uri": "https://localhost:8080/"
        },
        "id": "97VAI2P5JtPd",
        "outputId": "29fdea6c-9aab-405a-d0c6-d1d9d855b9e4"
      },
      "execution_count": 122,
      "outputs": [
        {
          "output_type": "stream",
          "name": "stdout",
          "text": [
            "92\n",
            "53\n",
            "85\n",
            "77\n",
            "6\n",
            "52\n",
            "69\n",
            "52\n",
            "0\n",
            "79\n"
          ]
        }
      ]
    },
    {
      "cell_type": "code",
      "source": [
        "print(sample_arr)\n",
        "sample_arr[1:6]"
      ],
      "metadata": {
        "colab": {
          "base_uri": "https://localhost:8080/"
        },
        "id": "92QPchgSJ6Te",
        "outputId": "4dbc3631-3e21-49ca-a102-2ecf894e19b7"
      },
      "execution_count": 123,
      "outputs": [
        {
          "output_type": "stream",
          "name": "stdout",
          "text": [
            "[92 53 85 77  6 52 69 52  0 79]\n"
          ]
        },
        {
          "output_type": "execute_result",
          "data": {
            "text/plain": [
              "array([53, 85, 77,  6, 52])"
            ]
          },
          "metadata": {},
          "execution_count": 123
        }
      ]
    },
    {
      "cell_type": "code",
      "source": [
        "sample_arr[:5]"
      ],
      "metadata": {
        "colab": {
          "base_uri": "https://localhost:8080/"
        },
        "id": "L0w-8OUiKid_",
        "outputId": "31aeb490-6e03-4fb3-8313-ec7d5f9bb811"
      },
      "execution_count": 124,
      "outputs": [
        {
          "output_type": "execute_result",
          "data": {
            "text/plain": [
              "array([92, 53, 85, 77,  6])"
            ]
          },
          "metadata": {},
          "execution_count": 124
        }
      ]
    },
    {
      "cell_type": "code",
      "source": [
        "sample_arr[5:]"
      ],
      "metadata": {
        "colab": {
          "base_uri": "https://localhost:8080/"
        },
        "id": "KjpGgLviK94e",
        "outputId": "c484b3c2-d56c-48f8-d17e-199700a6a574"
      },
      "execution_count": 125,
      "outputs": [
        {
          "output_type": "execute_result",
          "data": {
            "text/plain": [
              "array([52, 69, 52,  0, 79])"
            ]
          },
          "metadata": {},
          "execution_count": 125
        }
      ]
    },
    {
      "cell_type": "code",
      "source": [
        "# arr = sample_arr[5:]\n",
        "\n",
        "# arr[:3] = 100\n",
        "# print(arr)\n",
        "\n",
        "# sample_arr"
      ],
      "metadata": {
        "id": "4o5eHr5ILO2m"
      },
      "execution_count": 126,
      "outputs": []
    },
    {
      "cell_type": "code",
      "source": [
        "arr = sample_arr.copy()\n",
        "\n",
        "arr[:] = 1000\n",
        "\n",
        "print(arr)\n",
        "print(sample_arr)\n"
      ],
      "metadata": {
        "colab": {
          "base_uri": "https://localhost:8080/"
        },
        "id": "kGv1ucBbMDFO",
        "outputId": "87b31bc3-9f89-4fff-dc93-94c526074d4f"
      },
      "execution_count": 127,
      "outputs": [
        {
          "output_type": "stream",
          "name": "stdout",
          "text": [
            "[1000 1000 1000 1000 1000 1000 1000 1000 1000 1000]\n",
            "[92 53 85 77  6 52 69 52  0 79]\n"
          ]
        }
      ]
    },
    {
      "cell_type": "code",
      "source": [
        "arr2d = np.random.randint(0,100,(5,5))"
      ],
      "metadata": {
        "id": "3xQBcGxTMhUm"
      },
      "execution_count": 130,
      "outputs": []
    },
    {
      "cell_type": "code",
      "source": [
        "print(arr2d)\n",
        "arr2d[1][2]"
      ],
      "metadata": {
        "colab": {
          "base_uri": "https://localhost:8080/"
        },
        "id": "Mcox4VonNpoG",
        "outputId": "cec78d3a-212b-4126-b797-e0cb5bba5dbf"
      },
      "execution_count": 132,
      "outputs": [
        {
          "output_type": "stream",
          "name": "stdout",
          "text": [
            "[[63 92 24  5 27]\n",
            " [21 51 31 77 92]\n",
            " [89 81 17 96 71]\n",
            " [95 14 38 91 71]\n",
            " [ 0 20 25 99 20]]\n"
          ]
        },
        {
          "output_type": "execute_result",
          "data": {
            "text/plain": [
              "31"
            ]
          },
          "metadata": {},
          "execution_count": 132
        }
      ]
    },
    {
      "cell_type": "code",
      "source": [
        "arr2d[3,1]"
      ],
      "metadata": {
        "colab": {
          "base_uri": "https://localhost:8080/"
        },
        "id": "xUp-z6ccONCl",
        "outputId": "f2c74911-cdde-454c-a259-d4df7b37c303"
      },
      "execution_count": 134,
      "outputs": [
        {
          "output_type": "execute_result",
          "data": {
            "text/plain": [
              "14"
            ]
          },
          "metadata": {},
          "execution_count": 134
        }
      ]
    },
    {
      "cell_type": "markdown",
      "source": [
        "**Array Selection**"
      ],
      "metadata": {
        "id": "ngmVFp9-PBFe"
      }
    },
    {
      "cell_type": "code",
      "source": [
        "arr2d[:2,1:]"
      ],
      "metadata": {
        "colab": {
          "base_uri": "https://localhost:8080/"
        },
        "id": "JKNdKWPsOeTG",
        "outputId": "74f68fa9-ff54-474c-ebbc-cf6a179aaec8"
      },
      "execution_count": 135,
      "outputs": [
        {
          "output_type": "execute_result",
          "data": {
            "text/plain": [
              "array([[92, 24,  5, 27],\n",
              "       [51, 31, 77, 92]])"
            ]
          },
          "metadata": {},
          "execution_count": 135
        }
      ]
    },
    {
      "cell_type": "code",
      "source": [
        "arr2d[1:3,1:3]"
      ],
      "metadata": {
        "colab": {
          "base_uri": "https://localhost:8080/"
        },
        "id": "7dAhdmc5P-9-",
        "outputId": "d4f8b96d-1d3f-4191-8f61-b9a40ee2e36f"
      },
      "execution_count": 137,
      "outputs": [
        {
          "output_type": "execute_result",
          "data": {
            "text/plain": [
              "array([[51, 31],\n",
              "       [81, 17]])"
            ]
          },
          "metadata": {},
          "execution_count": 137
        }
      ]
    },
    {
      "cell_type": "code",
      "source": [
        "arr = np.arange(0,11)\n",
        "print(arr)\n",
        "\n",
        "bool_arr = arr > 4\n",
        "print(bool_arr)\n",
        "\n",
        "arr[arr > 4]\n",
        "arr[bool_arr]"
      ],
      "metadata": {
        "colab": {
          "base_uri": "https://localhost:8080/"
        },
        "id": "7kzamWMeQNkG",
        "outputId": "ff333a26-8cee-4bff-9bf3-5c239208b06d"
      },
      "execution_count": 143,
      "outputs": [
        {
          "output_type": "stream",
          "name": "stdout",
          "text": [
            "[ 0  1  2  3  4  5  6  7  8  9 10]\n",
            "[False False False False False  True  True  True  True  True  True]\n"
          ]
        },
        {
          "output_type": "execute_result",
          "data": {
            "text/plain": [
              "array([ 5,  6,  7,  8,  9, 10])"
            ]
          },
          "metadata": {},
          "execution_count": 143
        }
      ]
    },
    {
      "cell_type": "markdown",
      "source": [
        "**Array operations**"
      ],
      "metadata": {
        "id": "HJKyLxzYRo13"
      }
    },
    {
      "cell_type": "code",
      "source": [
        "lst = [1,2,3]\n",
        "lst + lst"
      ],
      "metadata": {
        "colab": {
          "base_uri": "https://localhost:8080/"
        },
        "id": "iaYXAIC4QrXu",
        "outputId": "26943fb1-d2a3-46c5-fa3f-b0dc4d6e9126"
      },
      "execution_count": 148,
      "outputs": [
        {
          "output_type": "execute_result",
          "data": {
            "text/plain": [
              "[1, 2, 3, 1, 2, 3]"
            ]
          },
          "metadata": {},
          "execution_count": 148
        }
      ]
    },
    {
      "cell_type": "code",
      "source": [
        "# NumPy has brodcasting ability\n",
        "\n",
        "arr = np.arange(1,13)\n",
        "print(arr)\n",
        "\n",
        "arr + arr\n",
        "# arr - arr\n",
        "# arr * arr\n",
        "# arr / arr"
      ],
      "metadata": {
        "colab": {
          "base_uri": "https://localhost:8080/"
        },
        "id": "Z75BawhbTfKm",
        "outputId": "70218309-cdaa-4b3f-8e57-c8f065fbf2ad"
      },
      "execution_count": 150,
      "outputs": [
        {
          "output_type": "stream",
          "name": "stdout",
          "text": [
            "[ 1  2  3  4  5  6  7  8  9 10 11 12]\n"
          ]
        },
        {
          "output_type": "execute_result",
          "data": {
            "text/plain": [
              "array([ 2,  4,  6,  8, 10, 12, 14, 16, 18, 20, 22, 24])"
            ]
          },
          "metadata": {},
          "execution_count": 150
        }
      ]
    },
    {
      "cell_type": "code",
      "source": [
        "arr = np.arange(1,13).reshape(4,3)\n",
        "arr2 = np.arange(1,13).reshape(4,3)\n",
        "\n",
        "print(arr)\n",
        "print(\"\\n\")\n",
        "print(arr2)\n",
        "print(\"\\n\")\n",
        "\n",
        "arr * arr2"
      ],
      "metadata": {
        "colab": {
          "base_uri": "https://localhost:8080/"
        },
        "id": "86MfjeDPU2kW",
        "outputId": "32556193-7d4a-4c9e-9e2a-6c4e52d488d3"
      },
      "execution_count": 155,
      "outputs": [
        {
          "output_type": "stream",
          "name": "stdout",
          "text": [
            "[[ 1  2  3]\n",
            " [ 4  5  6]\n",
            " [ 7  8  9]\n",
            " [10 11 12]]\n",
            "\n",
            "\n",
            "[[ 1  2  3]\n",
            " [ 4  5  6]\n",
            " [ 7  8  9]\n",
            " [10 11 12]]\n",
            "\n",
            "\n"
          ]
        },
        {
          "output_type": "execute_result",
          "data": {
            "text/plain": [
              "array([[  1,   4,   9],\n",
              "       [ 16,  25,  36],\n",
              "       [ 49,  64,  81],\n",
              "       [100, 121, 144]])"
            ]
          },
          "metadata": {},
          "execution_count": 155
        }
      ]
    },
    {
      "cell_type": "code",
      "source": [
        "np.add(arr, arr2)"
      ],
      "metadata": {
        "colab": {
          "base_uri": "https://localhost:8080/"
        },
        "id": "UBJhZyTiS9w9",
        "outputId": "cc9607bc-6068-4262-e974-a19d31ac7a9c"
      },
      "execution_count": 156,
      "outputs": [
        {
          "output_type": "execute_result",
          "data": {
            "text/plain": [
              "array([[ 2,  4,  6],\n",
              "       [ 8, 10, 12],\n",
              "       [14, 16, 18],\n",
              "       [20, 22, 24]])"
            ]
          },
          "metadata": {},
          "execution_count": 156
        }
      ]
    },
    {
      "cell_type": "code",
      "source": [
        "np.sqrt(arr)"
      ],
      "metadata": {
        "colab": {
          "base_uri": "https://localhost:8080/"
        },
        "id": "iMNHPMdmTMtm",
        "outputId": "64da6f86-45d8-46b4-d436-2aecdf63fcb5"
      },
      "execution_count": 157,
      "outputs": [
        {
          "output_type": "execute_result",
          "data": {
            "text/plain": [
              "array([[1.        , 1.41421356, 1.73205081],\n",
              "       [2.        , 2.23606798, 2.44948974],\n",
              "       [2.64575131, 2.82842712, 3.        ],\n",
              "       [3.16227766, 3.31662479, 3.46410162]])"
            ]
          },
          "metadata": {},
          "execution_count": 157
        }
      ]
    },
    {
      "cell_type": "code",
      "source": [
        "np.max(arr)"
      ],
      "metadata": {
        "colab": {
          "base_uri": "https://localhost:8080/"
        },
        "id": "fy8ALwJxVum-",
        "outputId": "7875e4ba-865a-4a91-84f0-346ff00b3508"
      },
      "execution_count": 159,
      "outputs": [
        {
          "output_type": "execute_result",
          "data": {
            "text/plain": [
              "12"
            ]
          },
          "metadata": {},
          "execution_count": 159
        }
      ]
    },
    {
      "cell_type": "code",
      "source": [
        "np.exp(arr)"
      ],
      "metadata": {
        "colab": {
          "base_uri": "https://localhost:8080/"
        },
        "id": "Zz790VvtV6Y2",
        "outputId": "53a94909-2b8e-4024-de65-4fe5e953d9dd"
      },
      "execution_count": 160,
      "outputs": [
        {
          "output_type": "execute_result",
          "data": {
            "text/plain": [
              "array([[2.71828183e+00, 7.38905610e+00, 2.00855369e+01],\n",
              "       [5.45981500e+01, 1.48413159e+02, 4.03428793e+02],\n",
              "       [1.09663316e+03, 2.98095799e+03, 8.10308393e+03],\n",
              "       [2.20264658e+04, 5.98741417e+04, 1.62754791e+05]])"
            ]
          },
          "metadata": {},
          "execution_count": 160
        }
      ]
    },
    {
      "cell_type": "code",
      "source": [
        "np.sin(arr)"
      ],
      "metadata": {
        "colab": {
          "base_uri": "https://localhost:8080/"
        },
        "id": "ZlbZJ8njV-1G",
        "outputId": "f5c58b98-0dbd-4379-9205-4d3389ada27d"
      },
      "execution_count": 161,
      "outputs": [
        {
          "output_type": "execute_result",
          "data": {
            "text/plain": [
              "array([[ 0.84147098,  0.90929743,  0.14112001],\n",
              "       [-0.7568025 , -0.95892427, -0.2794155 ],\n",
              "       [ 0.6569866 ,  0.98935825,  0.41211849],\n",
              "       [-0.54402111, -0.99999021, -0.53657292]])"
            ]
          },
          "metadata": {},
          "execution_count": 161
        }
      ]
    }
  ]
}