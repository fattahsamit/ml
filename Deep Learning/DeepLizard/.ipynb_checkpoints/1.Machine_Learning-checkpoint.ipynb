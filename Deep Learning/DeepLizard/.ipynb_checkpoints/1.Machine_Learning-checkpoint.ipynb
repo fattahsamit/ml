{
 "cells": [
  {
   "cell_type": "markdown",
   "metadata": {
    "id": "UcJrM4yQL9pD"
   },
   "source": [
    "# [Machine learning](https://deeplizard.com/learn/video/gZmobeGL0Yg)\n",
    "\n",
    "Machine learning is the practice of using algorithms to analyze data, learn from that data, and then make a determination or prediction about new data."
   ]
  },
  {
   "cell_type": "markdown",
   "metadata": {
    "id": "pzZ5ibRTMbLe"
   },
   "source": [
    "1.   Write an algorithm.\n",
    "2.   The machine executes the algorithm on a particular dataset.\n",
    "3.   Later, the machine can do the same task with data it has never seen before.\n",
    "\n",
    "Machine learning contrasts from just writing a logical algorithm to instruct a computer on how to do something with the **“learn from that data”** part. \n",
    "\n",
    "So, rather than manually writing code with a specific set of instructions to accomplish a specific task, the machine is trained using data and algorithms that give it the ability to perform the task without being explicitly being told how to do so.\n"
   ]
  },
  {
   "cell_type": "code",
   "execution_count": 3,
   "metadata": {
    "id": "oiCZhGnevoId"
   },
   "outputs": [],
   "source": [
    "# # Traditional Programming Approach\n",
    "# # pseudocode\n",
    "\n",
    "# let positive = [\n",
    "#     \"happy\", \n",
    "#     \"thankful\", \n",
    "#     \"amazing\"\n",
    "# ];\n",
    "\n",
    "# let negative = [\n",
    "#     \"can't\", \n",
    "#     \"won't\", \n",
    "#     \"sorry\", \n",
    "#     \"unfortunately\"\n",
    "# ];"
   ]
  },
  {
   "cell_type": "code",
   "execution_count": 4,
   "metadata": {
    "id": "gH6UEVWUS4KO"
   },
   "outputs": [],
   "source": [
    "# # Machine Learning Approach\n",
    "# # pseudocode\n",
    "\n",
    "# let articles = [\n",
    "#     {\n",
    "#         label: \"positive\",\n",
    "#         data: \"The lizard movie was great! I really liked...\"\n",
    "#     },\n",
    "#     {\n",
    "#         label: \"positive\",\n",
    "#         data: \"Awesome lizards! The color green is my fav...\"\n",
    "#     },\n",
    "#     {\n",
    "#         label: \"negative\",\n",
    "#         data: \"Total disaster! I never liked...\"\n",
    "#     },\n",
    "#     {\n",
    "#         label: \"negative\",\n",
    "#         data: \"Worst movie of all time!...\"\n",
    "#     }\n",
    "# ];"
   ]
  },
  {
   "cell_type": "code",
   "execution_count": null,
   "metadata": {
    "id": "nT25I5gfTiT1"
   },
   "outputs": [],
   "source": []
  }
 ],
 "metadata": {
  "colab": {
   "collapsed_sections": [],
   "name": "Machine Learning",
   "provenance": []
  },
  "kernelspec": {
   "display_name": "Python 3",
   "language": "python",
   "name": "python3"
  },
  "language_info": {
   "codemirror_mode": {
    "name": "ipython",
    "version": 3
   },
   "file_extension": ".py",
   "mimetype": "text/x-python",
   "name": "python",
   "nbconvert_exporter": "python",
   "pygments_lexer": "ipython3",
   "version": "3.8.8"
  }
 },
 "nbformat": 4,
 "nbformat_minor": 1
}
